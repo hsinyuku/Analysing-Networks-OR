{
 "cells": [
  {
   "cell_type": "markdown",
   "metadata": {
    "toc": true
   },
   "source": [
    "<h1>Table of Contents<span class=\"tocSkip\"></span></h1>\n",
    "<div class=\"toc\"><ul class=\"toc-item\"><li><span><a href=\"#Introduction\" data-toc-modified-id=\"Introduction-1\"><span class=\"toc-item-num\">1&nbsp;&nbsp;</span>Introduction</a></span></li><li><span><a href=\"#A-small-scale-LP-problem\" data-toc-modified-id=\"A-small-scale-LP-problem-2\"><span class=\"toc-item-num\">2&nbsp;&nbsp;</span>A small-scale LP-problem</a></span></li><li><span><a href=\"#Large-scale-LP-problems\" data-toc-modified-id=\"Large-scale-LP-problems-3\"><span class=\"toc-item-num\">3&nbsp;&nbsp;</span>Large-scale LP-problems</a></span><ul class=\"toc-item\"><li><span><a href=\"#Parametrised-model-formulation:\" data-toc-modified-id=\"Parametrised-model-formulation:-3.1\"><span class=\"toc-item-num\">3.1&nbsp;&nbsp;</span>Parametrised model formulation:</a></span></li><li><span><a href=\"#formulating-parametrised-model-in-Python\" data-toc-modified-id=\"formulating-parametrised-model-in-Python-3.2\"><span class=\"toc-item-num\">3.2&nbsp;&nbsp;</span>formulating parametrised model in Python</a></span></li></ul></li><li><span><a href=\"#Sensitivity-analysis\" data-toc-modified-id=\"Sensitivity-analysis-4\"><span class=\"toc-item-num\">4&nbsp;&nbsp;</span>Sensitivity analysis</a></span></li><li><span><a href=\"#LP-problems-with-multiple-optimal-solutions\" data-toc-modified-id=\"LP-problems-with-multiple-optimal-solutions-5\"><span class=\"toc-item-num\">5&nbsp;&nbsp;</span>LP-problems with multiple optimal solutions</a></span></li><li><span><a href=\"#Unbounded-LP-Problems\" data-toc-modified-id=\"Unbounded-LP-Problems-6\"><span class=\"toc-item-num\">6&nbsp;&nbsp;</span>Unbounded LP-Problems</a></span><ul class=\"toc-item\"><li><span><a href=\"#Example-description-and-model-formulation\" data-toc-modified-id=\"Example-description-and-model-formulation-6.1\"><span class=\"toc-item-num\">6.1&nbsp;&nbsp;</span>Example description and model formulation</a></span></li><li><span><a href=\"#Solving-the-model\" data-toc-modified-id=\"Solving-the-model-6.2\"><span class=\"toc-item-num\">6.2&nbsp;&nbsp;</span>Solving the model</a></span></li><li><span><a href=\"#Deciding-whether-the-model-is-feasible\" data-toc-modified-id=\"Deciding-whether-the-model-is-feasible-6.3\"><span class=\"toc-item-num\">6.3&nbsp;&nbsp;</span>Deciding whether the model is feasible</a></span></li></ul></li><li><span><a href=\"#Infeasible-LP-problem\" data-toc-modified-id=\"Infeasible-LP-problem-7\"><span class=\"toc-item-num\">7&nbsp;&nbsp;</span>Infeasible LP problem</a></span><ul class=\"toc-item\"><li><span><a href=\"#Example-description-and-model-formulation\" data-toc-modified-id=\"Example-description-and-model-formulation-7.1\"><span class=\"toc-item-num\">7.1&nbsp;&nbsp;</span>Example description and model formulation</a></span></li><li><span><a href=\"#Solving-the-model\" data-toc-modified-id=\"Solving-the-model-7.2\"><span class=\"toc-item-num\">7.2&nbsp;&nbsp;</span>Solving the model</a></span></li><li><span><a href=\"#Addressing-infeasibility\" data-toc-modified-id=\"Addressing-infeasibility-7.3\"><span class=\"toc-item-num\">7.3&nbsp;&nbsp;</span>Addressing infeasibility</a></span></li><li><span><a href=\"#Remarks-about-model-status\" data-toc-modified-id=\"Remarks-about-model-status-7.4\"><span class=\"toc-item-num\">7.4&nbsp;&nbsp;</span>Remarks about model status</a></span></li></ul></li><li><span><a href=\"#Further-Considerations\" data-toc-modified-id=\"Further-Considerations-8\"><span class=\"toc-item-num\">8&nbsp;&nbsp;</span>Further Considerations</a></span><ul class=\"toc-item\"><li><span><a href=\"#Minimisation-Problems\" data-toc-modified-id=\"Minimisation-Problems-8.1\"><span class=\"toc-item-num\">8.1&nbsp;&nbsp;</span>Minimisation Problems</a></span></li><li><span><a href=\"#Unconstrained-decision-variables\" data-toc-modified-id=\"Unconstrained-decision-variables-8.2\"><span class=\"toc-item-num\">8.2&nbsp;&nbsp;</span>Unconstrained decision variables</a></span></li><li><span><a href=\"#initial-basic-feasible-solution\" data-toc-modified-id=\"initial-basic-feasible-solution-8.3\"><span class=\"toc-item-num\">8.3&nbsp;&nbsp;</span>initial basic feasible solution</a></span></li><li><span><a href=\"#Presolve\" data-toc-modified-id=\"Presolve-8.4\"><span class=\"toc-item-num\">8.4&nbsp;&nbsp;</span>Presolve</a></span></li><li><span><a href=\"#matrix-sparsity\" data-toc-modified-id=\"matrix-sparsity-8.5\"><span class=\"toc-item-num\">8.5&nbsp;&nbsp;</span>matrix sparsity</a></span></li></ul></li><li><span><a href=\"#Duality-in-Linear-Programming\" data-toc-modified-id=\"Duality-in-Linear-Programming-9\"><span class=\"toc-item-num\">9&nbsp;&nbsp;</span>Duality in Linear Programming</a></span><ul class=\"toc-item\"><li><span><a href=\"#Initial-questions\" data-toc-modified-id=\"Initial-questions-9.1\"><span class=\"toc-item-num\">9.1&nbsp;&nbsp;</span>Initial questions</a></span></li><li><span><a href=\"#Definition\" data-toc-modified-id=\"Definition-9.2\"><span class=\"toc-item-num\">9.2&nbsp;&nbsp;</span>Definition</a></span></li></ul></li></ul></div>"
   ]
  },
  {
   "cell_type": "markdown",
   "metadata": {},
   "source": [
    "# Introduction"
   ]
  },
  {
   "cell_type": "markdown",
   "metadata": {},
   "source": [
    "# A small-scale LP-problem"
   ]
  },
  {
   "cell_type": "markdown",
   "metadata": {},
   "source": [
    "\\begin{equation*}\n",
    "\\max \\text{Revenue} = 45 x_1 + 80x_2 \\\\\n",
    "\\text{Subject to:}\\\\\n",
    "\\text{Mahagony: } 5x_1 + 20x_2 \\leq 400\\\\\n",
    "\\text{Labour: } 10x_1 + 15x_2 \\leq 450\\\\\n",
    "\\text{Non-negativity: } x_1, x_2 \\geq 0\\\\\n",
    "\\end{equation*}"
   ]
  },
  {
   "cell_type": "code",
   "execution_count": 1,
   "metadata": {},
   "outputs": [],
   "source": [
    "# import gurobi module\n",
    "from gurobipy import *"
   ]
  },
  {
   "cell_type": "markdown",
   "metadata": {},
   "source": [
    "The `model()` constructor creates a model object **f**. The name of this model is \"Furniture\". This new model initially contains no decision variables, constraints or objective function."
   ]
  },
  {
   "cell_type": "code",
   "execution_count": 3,
   "metadata": {},
   "outputs": [
    {
     "name": "stdout",
     "output_type": "stream",
     "text": [
      "Using license file C:\\Users\\ljsch\\gurobi.lic\n",
      "Academic license - for non-commercial use only\n"
     ]
    }
   ],
   "source": [
    "f = Model(\"Furniture\")"
   ]
  },
  {
   "cell_type": "markdown",
   "metadata": {},
   "source": [
    "We need to define all the components. The `addVar()`-method adds a **decision variable** to the model object f. By default, the decision variables are continuous and non-negative, with no upper bounds."
   ]
  },
  {
   "cell_type": "code",
   "execution_count": 5,
   "metadata": {},
   "outputs": [],
   "source": [
    "x1 = f.addVar(name = \"chairs\")\n",
    "x2 = f.addVar(name = \"tables\")"
   ]
  },
  {
   "cell_type": "markdown",
   "metadata": {},
   "source": [
    "Next, we can define the objective function. The first argument is a linear expression (`LinExpr`) and the second argument defines the sense of the optimisation. \n",
    "A LinExpr consists of a constant term, plus a sum of coefficient-variable pairs that capture the linear terms. The default value in Gurobi is to minimze the objective function."
   ]
  },
  {
   "cell_type": "code",
   "execution_count": 7,
   "metadata": {},
   "outputs": [],
   "source": [
    "f.setObjective(45*x1 + 80*x2, GRB.MAXIMIZE)"
   ]
  },
  {
   "cell_type": "markdown",
   "metadata": {},
   "source": [
    "The `addConstr()` method adds the constraints to the model and considers a linear expression with the LHS as the constraints, the sense of the constraint, and its capacity value. The second argument gives the name of the constraint."
   ]
  },
  {
   "cell_type": "code",
   "execution_count": 8,
   "metadata": {},
   "outputs": [
    {
     "data": {
      "text/plain": [
       "<gurobi.Constr *Awaiting Model Update*>"
      ]
     },
     "execution_count": 8,
     "metadata": {},
     "output_type": "execute_result"
    }
   ],
   "source": [
    "f.addConstr(5*x1 + 20*x2 <= 400, \"mahogany\")\n",
    "f.addConstr(10*x1 + 15*x2 <= 450, \"labor\")"
   ]
  },
  {
   "cell_type": "markdown",
   "metadata": {},
   "source": [
    "The next step is to run the optimisation engine to solve the LP problem in the model object f and returns a log."
   ]
  },
  {
   "cell_type": "code",
   "execution_count": 9,
   "metadata": {},
   "outputs": [
    {
     "name": "stdout",
     "output_type": "stream",
     "text": [
      "Gurobi Optimizer version 9.0.1 build v9.0.1rc0 (win64)\n",
      "Optimize a model with 2 rows, 2 columns and 4 nonzeros\n",
      "Model fingerprint: 0x524e9bdd\n",
      "Coefficient statistics:\n",
      "  Matrix range     [5e+00, 2e+01]\n",
      "  Objective range  [5e+01, 8e+01]\n",
      "  Bounds range     [0e+00, 0e+00]\n",
      "  RHS range        [4e+02, 5e+02]\n",
      "Presolve time: 0.02s\n",
      "Presolved: 2 rows, 2 columns, 4 nonzeros\n",
      "\n",
      "Iteration    Objective       Primal Inf.    Dual Inf.      Time\n",
      "       0    6.5000000e+31   2.968750e+30   6.500000e+01      0s\n",
      "       2    2.2000000e+03   0.000000e+00   0.000000e+00      0s\n",
      "\n",
      "Solved in 2 iterations and 0.04 seconds\n",
      "Optimal objective  2.200000000e+03\n"
     ]
    }
   ],
   "source": [
    "f.optimize()"
   ]
  },
  {
   "cell_type": "markdown",
   "metadata": {},
   "source": [
    "Intepreting the output of the optimiser:\n",
    "- The **matrix range** describes the minimum and maximum absolute value of the matrix of the technology coefficients.\n",
    "- The **objective range** contains the minimum and maximum absolute value of the objective function coefficients.\n",
    "- The **bounds range** contains the minimum and maximum absolute value of the bounds on the variables.\n",
    "- The **RHS range** contains the minimum and maximum absolute value of the RHS of each of the constraints. The RHS-values are important because sometimes, the LP formulation might have a numerical problem - looking at the range is important to detect numerical errors.\n",
    "- Further, the output contains the number of operations used to find the solution."
   ]
  },
  {
   "cell_type": "markdown",
   "metadata": {},
   "source": [
    "We can display the production plan and print the variables using a loop over `f.getVars()`, which returns the variable values. The value of the objective function can be returned using the  `f.objVal`"
   ]
  },
  {
   "cell_type": "code",
   "execution_count": 11,
   "metadata": {},
   "outputs": [
    {
     "name": "stdout",
     "output_type": "stream",
     "text": [
      "chairs 24.0\n",
      "tables 14.0\n",
      "Optimal total revenue: 2200.0\n"
     ]
    }
   ],
   "source": [
    "for v in f.getVars():\n",
    "    print(v.varName, v.x)\n",
    "    \n",
    "print(\"Optimal total revenue:\", f.objVal)"
   ]
  },
  {
   "cell_type": "markdown",
   "metadata": {},
   "source": [
    "# Large-scale LP-problems"
   ]
  },
  {
   "cell_type": "markdown",
   "metadata": {},
   "source": [
    "For large LP problems, the code just presented is too manual and would take too long to build.\n",
    "We should thus use appropriate data structures and Gurobi python functions and obects to abstract the code and build models on a larger scale."
   ]
  },
  {
   "cell_type": "markdown",
   "metadata": {},
   "source": [
    "## Parametrised model formulation:"
   ]
  },
  {
   "cell_type": "markdown",
   "metadata": {},
   "source": [
    "Let $price_p$ be the price of product $p \\in products = {chairs, tables}$ and let $capacity_r$ be the capacity available of resource $r \\in resource = {mahogany, labor}$.\n",
    "Let $bom_{r,p}$ be the amount of resource $r$ required by product $p$. Then the general formulation of the furniture problem is:\n",
    "\\begin{equation*}\n",
    "\\max  \\sum_{p\\in products} price_p \\cdot make_p \\\\\n",
    "\\text{subject to:}\\\\\n",
    "\\sum_{p \\in products} bom_{r,p} \\leq capacity_r \\quad  \\forall r \\in resources \\\\\n",
    "make_p \\geq 0 \\quad \\forall p \\in products\n",
    "\\end{equation*}"
   ]
  },
  {
   "cell_type": "markdown",
   "metadata": {},
   "source": [
    "## formulating parametrised model in Python"
   ]
  },
  {
   "cell_type": "markdown",
   "metadata": {},
   "source": [
    "We can save the model parametes in dictionaries:"
   ]
  },
  {
   "cell_type": "code",
   "execution_count": 33,
   "metadata": {},
   "outputs": [],
   "source": [
    "resources, capacity = multidict({\n",
    "    \"mahogany\": 400,\n",
    "    \"labor\": 450\n",
    "})\n",
    "products, price = multidict({\n",
    "    \"chair\": 45,\n",
    "    \"table\": 80\n",
    "})\n",
    "bom = { # the dictionary has a 2-tuple key, mapping the resource required by a product with its quantity per unit\n",
    "    (\"mahogany\", \"chair\"): 5,\n",
    "    (\"mahogany\", \"table\"): 20,\n",
    "    (\"labor\", \"chair\"): 10,\n",
    "    (\"labor\", \"table\"): 15\n",
    "}\n",
    "f = Model(\"Furniture\")"
   ]
  },
  {
   "cell_type": "markdown",
   "metadata": {},
   "source": [
    "Use the `addVars()`-method to created decision variables. THe method returns a Gurobi tupledict object with a specified name that contains the variables recently created. Its first argument (products) provides the indices that will be used as keys to access the variables in the returned tupledict."
   ]
  },
  {
   "cell_type": "code",
   "execution_count": 34,
   "metadata": {},
   "outputs": [],
   "source": [
    "make = f.addVars(products, name = \"make\")"
   ]
  },
  {
   "cell_type": "markdown",
   "metadata": {},
   "source": [
    "In the nexr step, we can add constraints via the `addConstrs()`method. Essentially, this equation states that the sum of the resource coefficients times the products produced for all products should be smaller than the capacity for each resource."
   ]
  },
  {
   "cell_type": "code",
   "execution_count": 35,
   "metadata": {},
   "outputs": [],
   "source": [
    "res = f.addConstrs(((sum(bom[r, p]*make[p] for p in products) <= capacity[r]) for r in resources), name = \"R\")"
   ]
  },
  {
   "cell_type": "markdown",
   "metadata": {},
   "source": [
    "For the objective function, we use `setObjective()`. The first argument is a linear expression which is generated by the `prod()`-method. This method is the product of the object `price` with the object `make` for each product p in the set of products. The second argument defines the sense of the optimisation."
   ]
  },
  {
   "cell_type": "code",
   "execution_count": 36,
   "metadata": {},
   "outputs": [],
   "source": [
    "f.setObjective(make.prod(price), GRB.MAXIMIZE)"
   ]
  },
  {
   "cell_type": "markdown",
   "metadata": {},
   "source": [
    "We use the `write()`-method to save the model for inspection."
   ]
  },
  {
   "cell_type": "code",
   "execution_count": 38,
   "metadata": {},
   "outputs": [],
   "source": [
    "f.write(\"furniture.lp\")"
   ]
  },
  {
   "cell_type": "markdown",
   "metadata": {},
   "source": [
    "Run the optimisation engine:"
   ]
  },
  {
   "cell_type": "code",
   "execution_count": 39,
   "metadata": {},
   "outputs": [
    {
     "name": "stdout",
     "output_type": "stream",
     "text": [
      "Gurobi Optimizer version 9.0.1 build v9.0.1rc0 (win64)\n",
      "Optimize a model with 2 rows, 2 columns and 4 nonzeros\n",
      "Model fingerprint: 0x524e9bdd\n",
      "Coefficient statistics:\n",
      "  Matrix range     [5e+00, 2e+01]\n",
      "  Objective range  [5e+01, 8e+01]\n",
      "  Bounds range     [0e+00, 0e+00]\n",
      "  RHS range        [4e+02, 5e+02]\n",
      "Presolve time: 0.01s\n",
      "Presolved: 2 rows, 2 columns, 4 nonzeros\n",
      "\n",
      "Iteration    Objective       Primal Inf.    Dual Inf.      Time\n",
      "       0    6.5000000e+31   2.968750e+30   6.500000e+01      0s\n",
      "       2    2.2000000e+03   0.000000e+00   0.000000e+00      0s\n",
      "\n",
      "Solved in 2 iterations and 0.02 seconds\n",
      "Optimal objective  2.200000000e+03\n",
      "make[chair] 24.0\n",
      "make[table] 14.0\n",
      "Optimal total revenue: 2200.0\n"
     ]
    }
   ],
   "source": [
    "f.optimize()\n",
    "for v in f.getVars():\n",
    "    print(v.varName, v.x)\n",
    "    \n",
    "print(\"Optimal total revenue:\", f.objVal)"
   ]
  },
  {
   "cell_type": "markdown",
   "metadata": {},
   "source": [
    "# Sensitivity analysis"
   ]
  },
  {
   "cell_type": "markdown",
   "metadata": {},
   "source": [
    "For each resource constraint in the dictionary `res` , we can check if its associated shadow price `.Pi` is greater than zero:"
   ]
  },
  {
   "cell_type": "code",
   "execution_count": 40,
   "metadata": {},
   "outputs": [
    {
     "name": "stdout",
     "output_type": "stream",
     "text": [
      "R[mahogany] 1.0\n",
      "R[labor] 4.0\n"
     ]
    }
   ],
   "source": [
    "for r in res:\n",
    "    if(abs(res[r].Pi) > 1e-16):\n",
    "        print(res[r].ConstrName, res[r].Pi)"
   ]
  },
  {
   "cell_type": "markdown",
   "metadata": {},
   "source": [
    "**Economic interpretation**\n",
    "Suppose we want to build desks, whose price is 110$ and the cost 15 units of mahogany to consume and 25 units of labours. Build a new multidict of products and a new bill of materials:"
   ]
  },
  {
   "cell_type": "code",
   "execution_count": 11,
   "metadata": {},
   "outputs": [
    {
     "name": "stdout",
     "output_type": "stream",
     "text": [
      "Gurobi Optimizer version 9.0.1 build v9.0.1rc0 (win64)\n",
      "Optimize a model with 2 rows, 3 columns and 6 nonzeros\n",
      "Model fingerprint: 0xb246a45d\n",
      "Coefficient statistics:\n",
      "  Matrix range     [5e+00, 3e+01]\n",
      "  Objective range  [5e+01, 1e+02]\n",
      "  Bounds range     [0e+00, 0e+00]\n",
      "  RHS range        [4e+02, 5e+02]\n",
      "Presolve time: 0.01s\n",
      "Presolved: 2 rows, 3 columns, 6 nonzeros\n",
      "\n",
      "Iteration    Objective       Primal Inf.    Dual Inf.      Time\n",
      "       0    9.2500000e+31   4.218750e+30   9.250000e+01      0s\n",
      "       2    2.2000000e+03   0.000000e+00   0.000000e+00      0s\n",
      "\n",
      "Solved in 2 iterations and 0.02 seconds\n",
      "Optimal objective  2.200000000e+03\n",
      "\n",
      "make[chair] 24.0\n",
      "make[table] 14.0\n",
      "make[desk] 0.0\n",
      "\n",
      "Optimal total revenue: 2200.0\n",
      "\n",
      "# Shadow prices:\n",
      "R[mahogany] 1.0\n",
      "R[labor] 4.0\n"
     ]
    }
   ],
   "source": [
    "products, price = multidict({\n",
    "    \"chair\": 45,\n",
    "    \"table\": 80,\n",
    "    \"desk\": 110\n",
    "})\n",
    "bom = { # the dictionary has a 2-tuple key, mapping the resource required by a product with its quantity per unit\n",
    "    (\"mahogany\", \"chair\"): 5,\n",
    "    (\"mahogany\", \"table\"): 20,\n",
    "    (\"mahogany\", \"desk\"): 15,\n",
    "    (\"labor\", \"chair\"): 10,\n",
    "    (\"labor\", \"table\"): 15,\n",
    "    (\"labor\", \"desk\"): 25,\n",
    "}\n",
    "f = Model(\"Furniture\")\n",
    "make = f.addVars(products, name = \"make\")\n",
    "res = f.addConstrs(((sum(bom[r, p]*make[p] for p in products) <= capacity[r]) for r in resources), name = \"R\")\n",
    "f.setObjective(make.prod(price), GRB.MAXIMIZE)\n",
    "f.write(\"furniture.lp\")\n",
    "f.optimize()\n",
    "\n",
    "print(\"\")\n",
    "for v in f.getVars():\n",
    "    print(v.varName, v.x)\n",
    "\n",
    "print(\"\")\n",
    "print(\"Optimal total revenue:\", f.objVal)\n",
    "print(\"\")\n",
    "\n",
    "print(\"# Shadow prices:\")\n",
    "for r in res:\n",
    "    if(abs(res[r].Pi) > 1e-16):\n",
    "        print(res[r].ConstrName, res[r].Pi)"
   ]
  },
  {
   "cell_type": "markdown",
   "metadata": {},
   "source": [
    "From the model output, we can see that building desks is not profitable.\n",
    "We can use the shadow price information for that as well. When the opportunity cost of making a desk is greater than its price, than it is not profitable. The opportunity cost can be calculated by:\n",
    "\n",
    "\\begin{equation*}\n",
    "\\text{opportunity cost}_{\\text{desk}} = \\text{shadow price}_\\text{mahogany} \\cdot \\text{mahogany}_\\text{desk} + \\text{shadow price}_\\text{labor} \\cdot \\text{labor}_\\text{desk} = 115 > \\text{price}_\\text{desk}\n",
    "\\end{equation*}"
   ]
  },
  {
   "cell_type": "markdown",
   "metadata": {},
   "source": [
    "# LP-problems with multiple optimal solutions\n",
    "Assume the price of a chair changes to 50\\\\$ and that of a table to 75\\\\$. This results in a new objective function, where two production plans are equally profitable. However, the second production plan ($x_1 = 45, x_2 = 0$) has non-negative slack variables.\n",
    "We can define a new model object:"
   ]
  },
  {
   "cell_type": "code",
   "execution_count": 13,
   "metadata": {},
   "outputs": [
    {
     "name": "stdout",
     "output_type": "stream",
     "text": [
      "Gurobi Optimizer version 9.0.1 build v9.0.1rc0 (win64)\n",
      "Optimize a model with 2 rows, 2 columns and 4 nonzeros\n",
      "Model fingerprint: 0x44366335\n",
      "Coefficient statistics:\n",
      "  Matrix range     [5e+00, 2e+01]\n",
      "  Objective range  [5e+01, 8e+01]\n",
      "  Bounds range     [0e+00, 0e+00]\n",
      "  RHS range        [4e+02, 5e+02]\n",
      "Presolve time: 0.01s\n",
      "Presolved: 2 rows, 2 columns, 4 nonzeros\n",
      "\n",
      "Iteration    Objective       Primal Inf.    Dual Inf.      Time\n",
      "       0    6.8750000e+31   2.968750e+30   6.875000e+01      0s\n",
      "       1    2.2500000e+03   0.000000e+00   0.000000e+00      0s\n",
      "\n",
      "Solved in 1 iterations and 0.02 seconds\n",
      "Optimal objective  2.250000000e+03\n",
      "\n",
      "# Optimal values of decision variables:\n",
      "make[chair] 45.0\n",
      "make[table] 0.0\n",
      "\n",
      "# Optimal total revenue:\n",
      "2250.0\n",
      "\n",
      "# Shadow prices:\n",
      "R[mahogany] 0.0\n",
      "R[labor] 5.0\n",
      "\n",
      "# Reduced costs of decision variables:\n",
      "make[chair] 0.0\n",
      "make[table] 0.0\n"
     ]
    }
   ],
   "source": [
    "resources, capacity = multidict({\n",
    "    \"mahogany\": 400,\n",
    "    \"labor\": 450\n",
    "})\n",
    "products, price = multidict({\n",
    "    \"chair\": 50,\n",
    "    \"table\": 75\n",
    "})\n",
    "bom = { # the dictionary has a 2-tuple key, mapping the resource required by a product with its quantity per unit\n",
    "    (\"mahogany\", \"chair\"): 5,\n",
    "    (\"mahogany\", \"table\"): 20,\n",
    "    (\"labor\", \"chair\"): 10,\n",
    "    (\"labor\", \"table\"): 15\n",
    "}\n",
    "f = Model(\"Furniture\")\n",
    "make = f.addVars(products, name = \"make\")\n",
    "res = f.addConstrs(((sum(bom[r, p]*make[p] for p in products) <= capacity[r]) for r in resources), name = \"R\")\n",
    "f.setObjective(make.prod(price), GRB.MAXIMIZE)\n",
    "f.write(\"furniture.lp\")\n",
    "f.optimize()\n",
    "\n",
    "print(\"\")\n",
    "print(\"# Optimal values of decision variables:\")\n",
    "for v in f.getVars():\n",
    "    print(v.varName, v.x)\n",
    "\n",
    "print(\"\")\n",
    "print(\"# Optimal total revenue:\")\n",
    "print(f.objVal)\n",
    "print(\"\")\n",
    "\n",
    "print(\"# Shadow prices:\")\n",
    "for r in res:\n",
    "    print(res[r].ConstrName, res[r].Pi)\n",
    "        \n",
    "print(\"\")\n",
    "print(\"# Reduced costs of decision variables:\")\n",
    "for v in f.getVars():\n",
    "    print(v.varName, abs(v.rc))"
   ]
  },
  {
   "cell_type": "markdown",
   "metadata": {},
   "source": [
    "Here, reduced cost (or opportunity cost), is the amount by which an objective function coefficient would have to improve (so increase for maximization problem, decrease for minimization problem) before it would be possible for a corresponding variable to assume a positive value in the optimal solution. It is the cost for increasing a variable by a small amount, i.e., the first derivative from a certain point on the polyhedron that constrains the problem."
   ]
  },
  {
   "cell_type": "markdown",
   "metadata": {},
   "source": [
    "In this example, Gurobi found one optimal solution. The reduced costs tell us that if we produce more tables and less chairs, the revenue generated will remain the same. From a **modeling perspective**, we have two alternative optimal solutions that generate the same revenue. From a **business perspective**, S1 is better because it is more efficient (it uses all the capacity).\n",
    "We can define new decision variables:\n",
    "- $x_3$ is the amount of unused mahogany \n",
    "- $x_4$ is the amount of unused labor\n",
    "- there are inventory costs associated with both resources (1\\\\$ for mahogany, 2\\\\$ for labor)\n",
    "We can now formulate a new model:\n",
    "\\begin{align}\n",
    "\\max z &= 50x_1 + 75x_2 - x_3 - 2x_4 \\\\\n",
    "\\textbf{subject to:}\\\\\n",
    "5x_1 + 20x_2 + x_3 &= 400 \\\\\n",
    "10x_1 + 15x_2 + x_4 &= 450 \\\\\n",
    "x_1, x_2, x_3, x_4 &\\geq 0\n",
    "\\end{align}\n",
    "\n",
    "Based on it, we can update the model:"
   ]
  },
  {
   "cell_type": "code",
   "execution_count": 22,
   "metadata": {
    "code_folding": []
   },
   "outputs": [
    {
     "name": "stdout",
     "output_type": "stream",
     "text": [
      "Gurobi Optimizer version 9.0.1 build v9.0.1rc0 (win64)\n",
      "Optimize a model with 2 rows, 4 columns and 6 nonzeros\n",
      "Model fingerprint: 0x9bfabaad\n",
      "Coefficient statistics:\n",
      "  Matrix range     [1e+00, 2e+01]\n",
      "  Objective range  [1e+00, 8e+01]\n",
      "  Bounds range     [0e+00, 0e+00]\n",
      "  RHS range        [4e+02, 5e+02]\n",
      "Presolve time: 0.01s\n",
      "Presolved: 2 rows, 4 columns, 6 nonzeros\n",
      "\n",
      "Iteration    Objective       Primal Inf.    Dual Inf.      Time\n",
      "       0    6.8750000e+31   2.109375e+30   6.875000e+01      0s\n",
      "       2    2.2500000e+03   0.000000e+00   0.000000e+00      0s\n",
      "\n",
      "Solved in 2 iterations and 0.01 seconds\n",
      "Optimal objective  2.250000000e+03\n",
      "\n",
      "# Optimal values of decision variables:\n",
      "make[chair] 24.0\n",
      "make[table] 14.0\n",
      "waste[mahogany] 0.0\n",
      "waste[labor] 0.0\n",
      "Optimal total revenue:  2250.0\n",
      "\n",
      "# Shadow prices:\n",
      "R[mahogany] 0.0\n",
      "R[labor] 5.0\n",
      "\n",
      "# Reduced costs of decision variables:\n",
      "make[chair] 0.0\n",
      "make[table] 0.0\n",
      "waste[mahogany] 1.0\n",
      "waste[labor] 7.0\n"
     ]
    }
   ],
   "source": [
    "resources, capacity, cost = multidict({ # we add the cost parameter to the resources multidict to penalise waste of resource\n",
    "    \"mahogany\": [400, 1],\n",
    "    \"labor\":    [450, 2]\n",
    "})\n",
    "products, price = multidict({\n",
    "    \"chair\": 50,\n",
    "    \"table\": 75\n",
    "})\n",
    "bom = { # the dictionary has a 2-tuple key, mapping the resource required by a product with its quantity per unit\n",
    "    (\"mahogany\", \"chair\"):  5,\n",
    "    (\"mahogany\", \"table\"): 20,\n",
    "    (\"labor\", \"chair\"):    10,\n",
    "    (\"labor\", \"table\"):    15\n",
    "}\n",
    "f = Model(\"Furniture\")\n",
    "make = f.addVars(products, name = \"make\")\n",
    "\n",
    "# create decision variables for the wasted resources\n",
    "waste = f.addVars(resources, name = \"waste\")\n",
    "\n",
    "# Capacity resource constraints\n",
    "res = f.addConstrs(((sum(bom[r, p]*make[p] for p in products) + waste[r] == capacity[r]) for r in resources),\n",
    "                   name = \"R\")\n",
    "# The objective is to maximise total profit\n",
    "f.setObjective(make.prod(price) - waste.prod(cost), GRB.MAXIMIZE)\n",
    "f.optimize()\n",
    "\n",
    "print(\"\")\n",
    "print(\"# Optimal values of decision variables:\")\n",
    "for v in f.getVars():\n",
    "    print(v.varName, v.x)\n",
    "print(\"Optimal total revenue: \", f.objVal)\n",
    "print(\"\")\n",
    "\n",
    "print(\"# Shadow prices:\")\n",
    "for r in res:\n",
    "    print(res[r].ConstrName, res[r].Pi)\n",
    "        \n",
    "print(\"\")\n",
    "print(\"# Reduced costs of decision variables:\")\n",
    "for v in f.getVars():\n",
    "    print(v.varName, abs(v.rc))"
   ]
  },
  {
   "cell_type": "markdown",
   "metadata": {},
   "source": [
    "Now, the solution of making 0 tables and 45 chairs is noe longer optimal, since it produces storage costs expressed in `waste`."
   ]
  },
  {
   "cell_type": "markdown",
   "metadata": {},
   "source": [
    "# Unbounded LP-Problems\n",
    "Unbounded means that the objective function can have an arbitrary large number."
   ]
  },
  {
   "cell_type": "markdown",
   "metadata": {},
   "source": [
    "## Example description and model formulation\n",
    "The bound on both resources are now lower bounds - they are unlimited as long a minimum of them are used\n",
    "\\begin{align}\n",
    "\\text{(1.0)} \\quad & \\max \\text{revenue} = 45x_1 + 80x_2 \\\\\n",
    "& \\textbf{subject to:} &\\\\\n",
    "\\text{(2.0)} \\quad & 5x_1 + 20x_2 \\geq 400 \\\\\n",
    "\\text{(3.0)} \\quad & 10x_1 + 15x_2 \\geq 450 \\\\\n",
    " &x_1, x_2 \\geq 0\n",
    "\\end{align}\n",
    "\n",
    "The feasible region is now different and unbounded - we can now generate an unlimited amount of revenue."
   ]
  },
  {
   "cell_type": "markdown",
   "metadata": {},
   "source": [
    "## Solving the model"
   ]
  },
  {
   "cell_type": "code",
   "execution_count": 8,
   "metadata": {},
   "outputs": [
    {
     "name": "stdout",
     "output_type": "stream",
     "text": [
      "Gurobi Optimizer version 9.0.1 build v9.0.1rc0 (win64)\n",
      "Optimize a model with 2 rows, 2 columns and 4 nonzeros\n",
      "Model fingerprint: 0x0aa407fe\n",
      "Coefficient statistics:\n",
      "  Matrix range     [5e+00, 2e+01]\n",
      "  Objective range  [5e+01, 8e+01]\n",
      "  Bounds range     [0e+00, 0e+00]\n",
      "  RHS range        [4e+02, 5e+02]\n",
      "Presolve time: 0.02s\n",
      "\n",
      "Solved in 0 iterations and 0.02 seconds\n",
      "Infeasible or unbounded model\n"
     ]
    },
    {
     "ename": "AttributeError",
     "evalue": "Unable to retrieve attribute 'objVal'",
     "output_type": "error",
     "traceback": [
      "\u001b[1;31m---------------------------------------------------------------------------\u001b[0m",
      "\u001b[1;31mAttributeError\u001b[0m                            Traceback (most recent call last)",
      "\u001b[1;32m<ipython-input-8-42fe203624bd>\u001b[0m in \u001b[0;36m<module>\u001b[1;34m\u001b[0m\n\u001b[0;32m     21\u001b[0m \u001b[0mf\u001b[0m\u001b[1;33m.\u001b[0m\u001b[0msetObjective\u001b[0m\u001b[1;33m(\u001b[0m\u001b[0mmake\u001b[0m\u001b[1;33m.\u001b[0m\u001b[0mprod\u001b[0m\u001b[1;33m(\u001b[0m\u001b[0mprice\u001b[0m\u001b[1;33m)\u001b[0m\u001b[1;33m,\u001b[0m \u001b[0mGRB\u001b[0m\u001b[1;33m.\u001b[0m\u001b[0mMAXIMIZE\u001b[0m\u001b[1;33m)\u001b[0m\u001b[1;33m\u001b[0m\u001b[1;33m\u001b[0m\u001b[0m\n\u001b[0;32m     22\u001b[0m \u001b[0mf\u001b[0m\u001b[1;33m.\u001b[0m\u001b[0moptimize\u001b[0m\u001b[1;33m(\u001b[0m\u001b[1;33m)\u001b[0m\u001b[1;33m\u001b[0m\u001b[1;33m\u001b[0m\u001b[0m\n\u001b[1;32m---> 23\u001b[1;33m \u001b[0mprint\u001b[0m\u001b[1;33m(\u001b[0m\u001b[1;34m\"Total profits: \"\u001b[0m\u001b[1;33m,\u001b[0m \u001b[0mf\u001b[0m\u001b[1;33m.\u001b[0m\u001b[0mobjVal\u001b[0m\u001b[1;33m)\u001b[0m\u001b[1;33m\u001b[0m\u001b[1;33m\u001b[0m\u001b[0m\n\u001b[0m",
      "\u001b[1;32mmodel.pxi\u001b[0m in \u001b[0;36mgurobipy.Model.__getattr__\u001b[1;34m()\u001b[0m\n",
      "\u001b[1;32mmodel.pxi\u001b[0m in \u001b[0;36mgurobipy.Model.getAttr\u001b[1;34m()\u001b[0m\n",
      "\u001b[1;32mattrutil.pxi\u001b[0m in \u001b[0;36mgurobipy.__getattr\u001b[1;34m()\u001b[0m\n",
      "\u001b[1;31mAttributeError\u001b[0m: Unable to retrieve attribute 'objVal'"
     ]
    }
   ],
   "source": [
    "resources, capacity = multidict({\n",
    "    \"mahogany\": 400,\n",
    "    \"labor\": 450\n",
    "})\n",
    "products, price = multidict({\n",
    "    \"chair\": 45,\n",
    "    \"table\": 80\n",
    "})\n",
    "bom = { # the dictionary has a 2-tuple key, mapping the resource required by a product with its quantity per unit\n",
    "    (\"mahogany\", \"chair\"): 5,\n",
    "    (\"mahogany\", \"table\"): 20,\n",
    "    (\"labor\", \"chair\"): 10,\n",
    "    (\"labor\", \"table\"): 15\n",
    "}\n",
    "f = Model(\"Furniture\")\n",
    "\n",
    "make = f.addVars(products, name = \"make\")\n",
    "# Here we need to make a small change in the model to it being greater than\n",
    "res = f.addConstrs(((sum(bom[r, p]*make[p] for p in products) >= capacity[r]) for r in resources), name = \"R\")\n",
    "f.setObjective(make.prod(price), GRB.MAXIMIZE)\n",
    "f.optimize()"
   ]
  },
  {
   "cell_type": "markdown",
   "metadata": {},
   "source": [
    "Gurobi tells us that the solution is either unfeasible or unbounded; it does not tell us whic of the two it is. We can check the status of the solver:"
   ]
  },
  {
   "cell_type": "code",
   "execution_count": 11,
   "metadata": {},
   "outputs": [
    {
     "name": "stdout",
     "output_type": "stream",
     "text": [
      "# No optimal solution found.\n"
     ]
    }
   ],
   "source": [
    "if f.status == GRB.Status.OPTIMAL:\n",
    "    print(\"# Optimal solution found.\")\n",
    "    print(\"Total profits: \", f.objVal)\n",
    "    for v in f.getVars():\n",
    "        print(v.varName, v.x)\n",
    "else:\n",
    "    print(\"# No optimal solution found.\")"
   ]
  },
  {
   "cell_type": "markdown",
   "metadata": {},
   "source": [
    "## Deciding whether the model is feasible\n",
    "We can change the sense of the optimisation to check if the model has a feasible solution. Gurobi will find a solution that is equal to maximising the bounded form of the same problem.\n",
    "This leads as to the conclusion that our problem is indeed unbounded, but not infeasible.\n",
    "\n",
    "However, it is unrealistic to assume that an infinite amount of products can be sold. Thus, we need to re-introduce new upper bounds."
   ]
  },
  {
   "cell_type": "code",
   "execution_count": 19,
   "metadata": {},
   "outputs": [
    {
     "name": "stdout",
     "output_type": "stream",
     "text": [
      "Gurobi Optimizer version 9.0.1 build v9.0.1rc0 (win64)\n",
      "Optimize a model with 2 rows, 2 columns and 4 nonzeros\n",
      "Model fingerprint: 0x4f12836a\n",
      "Coefficient statistics:\n",
      "  Matrix range     [5e+00, 2e+01]\n",
      "  Objective range  [5e+01, 8e+01]\n",
      "  Bounds range     [2e+02, 2e+02]\n",
      "  RHS range        [4e+02, 5e+02]\n",
      "Presolve removed 2 rows and 2 columns\n",
      "Presolve time: 0.02s\n",
      "Presolve: All rows and columns removed\n",
      "Iteration    Objective       Primal Inf.    Dual Inf.      Time\n",
      "       0    2.1000000e+04   0.000000e+00   0.000000e+00      0s\n",
      "\n",
      "Solved in 0 iterations and 0.02 seconds\n",
      "Optimal objective  2.100000000e+04\n",
      "\n",
      "# Optimal solution found.\n",
      "\n",
      "# Optimal values of decision variables:\n",
      "make[chair] 200.0\n",
      "make[table] 150.0\n",
      "Optimal total revenue:  21000.0\n"
     ]
    }
   ],
   "source": [
    "products, price, upBound = multidict({\n",
    "    \"chair\": [45, 200],\n",
    "    \"table\": [80, 150]\n",
    "})\n",
    "f = Model(\"Furniture\")\n",
    "\n",
    "# adding the upper bounds\n",
    "make = f.addVars(products, ub = upBound, name = \"make\")\n",
    "\n",
    "# Create an object of list type to store the constraints for each resorce\n",
    "res = f.addConstrs(((sum(bom[r, p]*make[p] for p in products) >= capacity[r]) for r in resources), name = \"R\")\n",
    "f.setObjective(make.prod(price), GRB.MAXIMIZE)\n",
    "f.optimize()\n",
    "f.write(\"Furniture_UpperBound.lp\") # the upper bounds will be captured here\n",
    "\n",
    "print(\"\")\n",
    "if f.status == GRB.Status.OPTIMAL:\n",
    "    print(\"# Optimal solution found.\")\n",
    "    print(\"\")\n",
    "    print(\"# Optimal values of decision variables:\")\n",
    "    for v in f.getVars():\n",
    "        print(v.varName, v.x)\n",
    "    print(\"Optimal total revenue: \", f.objVal)\n",
    "else:\n",
    "    print(\"# No optimal solution found.\")"
   ]
  },
  {
   "cell_type": "markdown",
   "metadata": {},
   "source": [
    "# Infeasible LP problem"
   ]
  },
  {
   "cell_type": "markdown",
   "metadata": {},
   "source": [
    "## Example description and model formulation\n",
    "The revenue generated has to be at least 4500\\\\$:\n",
    "\n",
    "\\begin{align}\n",
    "\\text{(1.0)} \\quad & \\max \\text{revenue} = 45x_1 + 80x_2 \\\\\n",
    "& \\textbf{subject to:} &\\\\\n",
    "\\text{(2.0)} \\quad & 5x_1 + 20x_2 \\geq 400 \\\\\n",
    "\\text{(3.0)} \\quad & 10x_1 + 15x_2 \\geq 450 \\\\\n",
    "\\text{(4.0)} \\quad & 45x_1 + 80x_2 \\geq 4500 \\\\\n",
    " &x_1, x_2 \\geq 0\n",
    "\\end{align}"
   ]
  },
  {
   "cell_type": "markdown",
   "metadata": {},
   "source": [
    "## Solving the model\n",
    "We need to add a new constraint:"
   ]
  },
  {
   "cell_type": "code",
   "execution_count": 31,
   "metadata": {},
   "outputs": [
    {
     "name": "stdout",
     "output_type": "stream",
     "text": [
      "Gurobi Optimizer version 9.0.1 build v9.0.1rc0 (win64)\n",
      "Optimize a model with 3 rows, 2 columns and 6 nonzeros\n",
      "Model fingerprint: 0xba7a8285\n",
      "Coefficient statistics:\n",
      "  Matrix range     [5e+00, 8e+01]\n",
      "  Objective range  [0e+00, 0e+00]\n",
      "  Bounds range     [0e+00, 0e+00]\n",
      "  RHS range        [4e+02, 5e+03]\n",
      "Presolve time: 0.01s\n",
      "\n",
      "Solved in 0 iterations and 0.02 seconds\n",
      "Infeasible model\n"
     ]
    }
   ],
   "source": [
    "resources, capacity = multidict({\n",
    "    \"mahogany\": 400,\n",
    "    \"labor\": 450\n",
    "})\n",
    "products, price = multidict({\n",
    "    \"chair\": 45,\n",
    "    \"table\": 80\n",
    "})\n",
    "bom = { # the dictionary has a 2-tuple key, mapping the resource required by a product with its quantity per unit\n",
    "    (\"mahogany\", \"chair\"): 5,\n",
    "    (\"mahogany\", \"table\"): 20,\n",
    "    (\"labor\", \"chair\"): 10,\n",
    "    (\"labor\", \"table\"): 15\n",
    "}\n",
    "\n",
    "minRev = 4500\n",
    "\n",
    "f = Model(\"Furniture\")\n",
    "\n",
    "make = f.addVars(products, name = \"make\")\n",
    "\n",
    "res = f.addConstrs(((sum(bom[r, p]*make[p] for p in products) <= capacity[r]) for r in resources), name = \"R\")\n",
    "# add the new constraint for minimum revenue\n",
    "minProfitConstr = f.addConstr(((sum(price[p] * make[p] for p in products) >= minRev)), name = \"B\")\n",
    "\n",
    "f.write(\"furniture_infeasible.lp\")\n",
    "\n",
    "f.optimize()"
   ]
  },
  {
   "cell_type": "markdown",
   "metadata": {},
   "source": [
    "This time, Gurobi tells us that the model is infeasible. Again, we have to check whether it is infeasible or unbounded. We can do this by setting a new objective with zero value, basically telling Gurobi to just find any solutin"
   ]
  },
  {
   "cell_type": "code",
   "execution_count": 33,
   "metadata": {},
   "outputs": [
    {
     "name": "stdout",
     "output_type": "stream",
     "text": [
      "LP problem is infeasible\n"
     ]
    }
   ],
   "source": [
    "if f.status == GRB.Status.INF_OR_UNBD:\n",
    "    print(\"LP problem is either infeasible or unbounded\")\n",
    "    print(\"Checking if LP problem is feasible\")\n",
    "    print(\"Set objective function to zero value and re-run engine\")\n",
    "    f.SetObjective(0, GRB.MAXIMIZE)\n",
    "    f.optimize()\n",
    "    \n",
    "# check if model with zero objectgive is infeasible\n",
    "if f.status == GRB.Status.INFEASIBLE:\n",
    "    print(\"LP problem is infeasible\")"
   ]
  },
  {
   "cell_type": "markdown",
   "metadata": {},
   "source": [
    "## Addressing infeasibility\n",
    "We can define a decision variable `extra` that measures the extra capacity of each resource and the cost for the extra capacity. Let us assume the extra costs for mahogany are 20\\\\$, and for labor 30\\\\$. We thus add a new variable to the objective function:\n",
    "\\begin{align}\n",
    "& \\max  \\sum_{p\\in products} price_p \\cdot make_p - \\sum_{p\\in resources} extraCost_r \\cdot extra_r\\\\\n",
    "& \\textbf{subject to:}\\\\\n",
    "&\\sum_{p \\in products} bom_{r,p} - extra_r \\leq capacity_r \\quad  \\forall r \\in resources \\\\\n",
    "&\\sum_{p \\in products} price_p \\cdot make_p \\geq minRev \\\\\n",
    "&make_p \\geq 0 \\quad \\forall p \\in products \\\\\n",
    "&extra_r \\geq 0 \\quad \\forall r \\in resources\n",
    "\\end{align}"
   ]
  },
  {
   "cell_type": "code",
   "execution_count": 40,
   "metadata": {},
   "outputs": [
    {
     "name": "stdout",
     "output_type": "stream",
     "text": [
      "Gurobi Optimizer version 9.0.1 build v9.0.1rc0 (win64)\n",
      "Optimize a model with 2 rows, 4 columns and 6 nonzeros\n",
      "Model fingerprint: 0x46970928\n",
      "Coefficient statistics:\n",
      "  Matrix range     [1e+00, 2e+01]\n",
      "  Objective range  [2e+01, 8e+01]\n",
      "  Bounds range     [0e+00, 0e+00]\n",
      "  RHS range        [4e+02, 5e+02]\n",
      "Presolve time: 0.01s\n",
      "Presolved: 2 rows, 4 columns, 6 nonzeros\n",
      "\n",
      "Iteration    Objective       Primal Inf.    Dual Inf.      Time\n",
      "       0    6.5000000e+31   2.109375e+30   6.500000e+01      0s\n",
      "       2    2.2000000e+03   0.000000e+00   0.000000e+00      0s\n",
      "\n",
      "Solved in 2 iterations and 0.02 seconds\n",
      "Optimal objective  2.200000000e+03\n"
     ]
    }
   ],
   "source": [
    "# resource data\n",
    "resources, capacity, extraCost = multidict({\n",
    "    \"mahogany\": [400, 20],\n",
    "    \"labor\": [450, 30]\n",
    "})\n",
    "products, price = multidict({\n",
    "    \"chair\": 45,\n",
    "    \"table\": 80\n",
    "})\n",
    "bom = { # the dictionary has a 2-tuple key, mapping the resource required by a product with its quantity per unit\n",
    "    (\"mahogany\", \"chair\"): 5,\n",
    "    (\"mahogany\", \"table\"): 20,\n",
    "    (\"labor\", \"chair\"): 10,\n",
    "    (\"labor\", \"table\"): 15\n",
    "}\n",
    "\n",
    "f = Model(\"Furniture\")\n",
    "\n",
    "make = f.addVars(products, name = \"make\")\n",
    "extra = f.addVars(resources, name = \"extra\")\n",
    "\n",
    "res = f.addConstrs(((sum(bom[r, p]*make[p] for p in products) - extra[r] <= capacity[r]) for r in resources),\n",
    "                   name = \"R\")\n",
    "\n",
    "f.setObjective(make.prod(price) - extra.prod(extraCost), GRB.MAXIMIZE)\n",
    "\n",
    "f.write(\"furniture_extracosts.lp\")\n",
    "\n",
    "f.optimize()"
   ]
  },
  {
   "cell_type": "markdown",
   "metadata": {},
   "source": [
    "## Remarks about model status\n",
    "\n",
    "It is good modeling practice to characterize the LP problem:\n",
    "\n",
    "- Avoid infeasibility by adding artificial variables to the constraints that may be infeasible. These artificial variables will have a high penalty in the objective function in such a way that the become positive only to make the problem fesaible.\n",
    "- To avoid unboundedness, define realistic upper bounds on all of the decision variables of the LP problem.\n",
    "- If the LP has alternative solutions, add objective functions that eliminare the alternative optimal solutions."
   ]
  },
  {
   "cell_type": "markdown",
   "metadata": {},
   "source": [
    "# Further Considerations"
   ]
  },
  {
   "cell_type": "markdown",
   "metadata": {},
   "source": [
    "## Minimisation Problems\n",
    "\n",
    "- you can formulate a maximisation problem as a minimisation problem (and vice versa):\n",
    "\n",
    "$$\\min \\sum_{j=1}^nb_jx_j = - (\\max -\\sum_{j=1}^nb_jx_j)$$\n",
    "\n",
    "- the default sense in Gurobi is to minimse the objective function\n",
    "- maximising the function has to be specified usedin `GRB.MAXIMIZE` in the `.setObjective()` method"
   ]
  },
  {
   "cell_type": "markdown",
   "metadata": {},
   "source": [
    "## Unconstrained decision variables\n",
    "Gurobi will automatically take care of unconstrained decision variables (i.e. those that can take on negative and positive values)"
   ]
  },
  {
   "cell_type": "markdown",
   "metadata": {},
   "source": [
    "## initial basic feasible solution\n",
    "Gurobi lies on the assumption that there is an initial basic feasible solution. The technique used is called **Phase 1 of Linear Programming** and entails adding non-negative artificial variables to the equation and inequalities to identify the initial basic feasible solution.\n",
    "The original objective function will be replaced by a new objective, and the goal will be to minimise the summation of the artificial variables. If the minimium value of the summation of artificial variables is positive, the LP problem is infeasible. If the minimum value of the sum of artificial variables is zero, then the basic feasible variables of the optimal solution are an initial basic feasible solution of the actual LP problem.\n",
    "\n",
    "*Don't worry, I haven't really understood it, but I guess that's fine.*\n",
    "\n",
    "- **How to determine an initial basic feasible solution**\n",
    "Parametrised formulation with additional constraint on minimum profit:\n",
    "\n",
    "\\begin{align}\n",
    "&& \\max & (45x_1 + 80x2 - 20x_3 - 30x_4) \\\\\n",
    "\\text{Mahogany:} && 5x_1 + 20x_2 - x_3 &\\leq 400 \\\\\n",
    "\\text{Labour:} && 10x_1 + 15x_2 - x_4 &\\leq 450\\\\\n",
    "\\text{Minimum Profit:} && 45x_1 + 80x_2 &\\geq 4500 \\\\\n",
    "&& x_1, x_2, x_3, x_4 &\\geq 0\n",
    "\\end{align}\n",
    "\n",
    "Add an artificial variable $\\alpha$ to the Minimum Profit-Constraint. At Phase 1 of LP, we minimise $\\alpha$ to identify an initial basic feasible solution. We then transform the formulation to the LP problem standard formulation.\n",
    "\n",
    "\\begin{align}\n",
    "&& \\max -\\alpha & \\\\\n",
    "\\text{Mahogany:} && 5x_1 + 20x_2 - x_3 + h_1 &= 400 \\\\\n",
    "\\text{Labour:} && 10x_1 + 15x_2 - x_4 + h_2 &= 450\\\\\n",
    "\\text{Minimum Profit:} && 45x_1 + 80x_2 + \\alpha - s_1 &=4500 \\\\\n",
    "&& x_1, x_2, x_3, x_4, h_1, h_2, \\alpha, s_1 &\\geq 0\n",
    "\\end{align}\n",
    "\n",
    "And finally, we can express that problem in the canonical form:\n",
    "\n",
    "\\begin{align}\n",
    "h_1 &= 400 - 5_x - 20x_2 + x_3 \\\\\n",
    "h_2 &= 450 - 10x_1 - 15x_2 + x_4 \\\\\n",
    "\\alpha &= 4500 - 45x_1 - 80x_2 + s_1 \\\\\n",
    "& x_1, x_2, x_3, x_4, h_1, h_2, \\alpha, s_1 \\geq 0\n",
    "\\end{align}\n",
    "\n",
    "Now we can apply the simplex method to the Phase 1 LP problem in canonical form w.r.t the bases $h_1, h_2, \\alpha$.\n",
    "\n",
    "We don't have to provide an initial basic feasible solution or solve phase 1 minimisation, Gurobi does it behind the scenes. Gurobi only needs the original LP problem formulation."
   ]
  },
  {
   "cell_type": "markdown",
   "metadata": {},
   "source": [
    "## Presolve\n",
    "\n",
    "LP problems can use a large amount of computer time; thus, it is advisable to have LP problems that can be solved as qucikly as possible. The **presolve engine** of Gurobi can dramatically reduce the size of an LP problem. The reduced problem can then be solved faster than the original one. The solution of the reduced  problem is then used to generate a solution of the original problem.\n",
    "The presolve-algorithm is not thoroughly explained (in the example they gave, it has to do with eliminating variables that are redundant and deleting constraints that are redundant and then using the reduced problem). Gurobi automatically uses it in the background.\n",
    "For large problems, Gurobi can dramatically reduce solving time."
   ]
  },
  {
   "cell_type": "markdown",
   "metadata": {},
   "source": [
    "## matrix sparsity\n",
    "\n",
    "For practical LP and MIP problems, the matrix of the technology coefficients is sparse (many of its entries are $0$); only a small number of coefficients tin the matrix of technology coefficients are non-zero. Presolve takes advantage of the sparsity of the matrix of technology coefficients to reduce solving time. The **revised simples method** additionally exploits the sparsity."
   ]
  },
  {
   "cell_type": "markdown",
   "metadata": {},
   "source": [
    "# Duality in Linear Programming"
   ]
  },
  {
   "cell_type": "markdown",
   "metadata": {},
   "source": [
    "## Initial questions\n",
    "\n",
    "- For the furniture problem, is it profitable to make a third product (like desks)?\n",
    "  - Assume the price of a desk is 10\\\\$.\n",
    "  - To produce a desk, we need 15 units of mahogany and 25 units of labour.\n",
    "  - The shadow price of mahogany is 1\\\\$, the one of labour is 4\\\\$ (shadow prices determine the marginal worth of an additional unit of a resource).\n",
    "- We want to compute the opportunity costs of making desks and comparte it with the price of a desk. If this opportunity cost is greater than the desk price, it is not worth making desks.\n",
    "- The opportunity cost is the sum of the products of the shadow prices and the resources neede to build a desk for every resource.\n",
    "- In our example, it is not profitable to build desks.\n"
   ]
  },
  {
   "cell_type": "markdown",
   "metadata": {},
   "source": [
    "## Definition\n",
    "Duality in LP is the relation between the **Primal Problem** and the **Dual Problem**, whose decision variables (**dual variables**) are the shadow prices of the resources constraints.\n",
    "\n",
    "\\begin{align}\n",
    "&& \\textbf{Primal} &&&& \\textbf{Dual} & \\\\\n",
    "& (1.0) & \\max \\text{revenue} &= 45x_1 + 80x_2 & (4.0) && \\min \\text{cost} &= 400w_1 + 450w_2 \\\\\n",
    "& (2.0) & 5x_1 + 20x_2 &\\leq 400               & (5.0) && 5w_1 + 10w_1 &\\geq 45 \\text{ (Chairs)} \\\\\n",
    "& (3.0) & 10x_1 + 15x_2 &\\leq 450              & (6.0) && 20w_1 + 15w_2 &\\geq 80 \\text{ (Tables)} \\\\\n",
    "&& x_1, x_2 &\\geq 0                            &       && w_1, w_2 &\\geq 0\n",
    "\\end{align}\n",
    "\n",
    "The columns in the primal problem represent the rows in the dual problem (swtich between the objective function coefficients). Equations (5.0) and (6.0) denote the opportunity costs of products, where $w_1, w_2$ are shadow prices of the resources. We want to minimise the opportunity costs, subject to the constraints."
   ]
  },
  {
   "cell_type": "markdown",
   "metadata": {},
   "source": []
  }
 ],
 "metadata": {
  "kernelspec": {
   "display_name": "Python 3",
   "language": "python",
   "name": "python3"
  },
  "language_info": {
   "codemirror_mode": {
    "name": "ipython",
    "version": 3
   },
   "file_extension": ".py",
   "mimetype": "text/x-python",
   "name": "python",
   "nbconvert_exporter": "python",
   "pygments_lexer": "ipython3",
   "version": "3.7.6"
  },
  "toc": {
   "base_numbering": 1,
   "nav_menu": {
    "height": "218px",
    "width": "358px"
   },
   "number_sections": true,
   "sideBar": true,
   "skip_h1_title": false,
   "title_cell": "Table of Contents",
   "title_sidebar": "Contents",
   "toc_cell": true,
   "toc_position": {
    "height": "748.667px",
    "left": "969px",
    "top": "142.233px",
    "width": "300.8px"
   },
   "toc_section_display": true,
   "toc_window_display": true
  }
 },
 "nbformat": 4,
 "nbformat_minor": 4
}
