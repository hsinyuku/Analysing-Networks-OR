{
 "cells": [
  {
   "cell_type": "markdown",
   "metadata": {},
   "source": [
    "# Task description\n",
    "The company **LGLog** is active in forest and wood management, transporting logs from the forest to sawmills. The company operates in multiple forests and owns several sawmills. The forest can only be reached by very expensive and specialized forest transporters with high fuel consumption. Therefore, the company wants to build transshipment hubs near the harvested forest areas to move the logs to cheaper and more fuel efficient trucks that will transport the logs to the sawmills. The company has identified several potential transshipment hubs. Your job is to decide which preselected locations should be chosen.\n",
    "\n",
    "Each transshipment hub has a fixed cost for being open. Vehicles have\n",
    "travel costs depending on the amount of logs they are carrying, which are arc dependent. Each type of vehicle has a capacity on the number of logs it can carry. Assume that the truck can handle more logs than a forest transporter. Additionally there is a uniform handling cost per log at the hubs. You can assume there are enough vehicles of both types available to carry all of the demand, but multiple vehicles of the same type may not travel on the same arc at the same time.\n",
    "\n",
    "Assume you are aware of the demand at each sawmill and the supply\n",
    "in terms of logs at each forest. Note that these two quantities need not be balanced. LGLog is paid a fixed price per log delivered to any sawmill. Every hub can be reached from any forest and every sawmill can be reached from any hub with different distances in between them. It is also possible to travel directly from the forst to a sawmill. Transporting logs between hubs is prohibited. Furthermore, no logs are transported between sawmills nor between forest areas."
   ]
  },
  {
   "cell_type": "markdown",
   "metadata": {},
   "source": [
    "## Model\n",
    "### Model components\n",
    "**Set**\n",
    "\n",
    "\\begin{align*}\n",
    "\\text{Directed Graph: } & G = (N, A) \\\\\n",
    "\\text{Nodes: } & N = N^S \\cup N^F \\cup N^T \\\\\n",
    " & N^S \\text{: sawmills}\\\\\n",
    " & N^F\\text{: forests}\\\\\n",
    " & N^H\\text{: potential transshipment hub locations} \\\\\n",
    "\\text{Vehicles: } & V = \\{\\text{Truck, Transporter}\\}\n",
    "\\end{align*}\n",
    "\n",
    "**Decision Variable**\n",
    "\n",
    "\\begin{align*}\n",
    "x_{ij} :& \\text{ number of logs transported on arc } (i,j)\\in A\n",
    "\\end{align*}\n",
    "\n",
    "**Parameters**\n",
    "\n",
    "<u>Node-based parameters:</u>\n",
    "\n",
    "\\begin{align*}\n",
    "d_i: & \\;\\text{ demand at node } i \\in N^S \\\\\n",
    "s_i: & \\;\\text{ supply at node } i \\in N^F \\\\\n",
    "c_{i}^o: & \\;\\text{ fixed operating cost for a hub i } i\\in N^H \\\\\n",
    "\\end{align*}\n",
    "\n",
    "When any of the above parameter is not not defined for a subset of N, it takes the value 0.\n",
    "\n",
    "<u>Vehicle- and arc-based parameters:</u>\n",
    "\n",
    "\\begin{align*}\n",
    "\\text{cap}_v:& \\text{ capacity (max number of logs) of vehicle }v \\in V \\\\\n",
    "& (\\text{cap}_\\text{Truck} > \\text{cap}_\\text{Transporter}) \\\\\n",
    "c_{ij,v}^t: & \\text{ travel cost per log of vehicle }v\\in V\\text{ on arc }(i,j)\\in A \\\\\n",
    "\\end{align*}\n",
    "\n",
    "It is assumed that, while trucks can not reach forests, transporters can in theory be used to transport logs between hubs and sawmills (or directly between forests and sawmills). See also the variable $u_{ij,v}$ and the third constraint.\n",
    "\n",
    "<u>Other variables:</u>\n",
    "\n",
    "\\begin{align*}\n",
    "p : & \\text{ price per log delivered}\\\\\n",
    "u_{ij,v} :& \\text{ vehicle of type }v\\text{ used on arc } (i,j)\\in A \\\\\n",
    "& u_{ij,v} = \\{0, 1 \\} \\;,\\;\\forall v \\in V\\\\\n",
    "c^h: & \\;\\text{ handling cost per log}\\\\\n",
    "\\end{align*}\n",
    "\n",
    "Handling costs are assumed to occur whenever a log arrives at a hub."
   ]
  },
  {
   "cell_type": "markdown",
   "metadata": {},
   "source": [
    "**Objective function:**\n",
    "\n",
    "\\begin{align*}\n",
    "\\max \\Big( & p \\cdot \\sum_{i\\in N^S}\\sum_{j\\in N} x_{ji} \\; & & | \\; \\text{ Revenue is earned for each log delivered to a sawmill.}\\\\\n",
    "-  & c^h \\cdot \\sum_{i\\in N^H}\\sum_{j\\in N} x_{ji} \\;  & & | \\; \\text{Handling costs of logs occur when logs enter a hub.}\\\\\n",
    "-  & \\sum_{i\\in N^H}\\big(I_{\\{x_{ji}>0\\}}c_{i}^o \\big) \\;  & & | \\; \\text{Fixed costs of operating hubs occur only at hubs that have logs transported to them.} \\\\\n",
    "-  & \\sum_{(i,j) \\in A}\\big[ x_{ij} \\sum_{v \\in V}(c_{ij,v}^t \\cdot u_{ij,v})\\big] \\Big) & &  | \\; \\text{Transport costs occur for every log through arc }(i,j)\\text{, depending on the vehicle } v\\in V\\text{ used.}\\\\ \n",
    "\\end{align*}"
   ]
  },
  {
   "cell_type": "markdown",
   "metadata": {},
   "source": [
    "**Subject to constraints:**\n",
    "\n",
    "\\begin{align*}\n",
    "d_i, s_i, c_i^o, c_i^h, p, \\text{cap}_v, c_{ij,v}^t, x_{ij}, u_{ij, v} \\geq 0 \n",
    "    & \\quad | \\quad \\text{ Non-negativity of all parameters}\\\\\n",
    "u_{ij, v} = \\{0,1\\}\n",
    "    & \\quad | \\quad  binarity of variable\\\\\n",
    "x_{ij} \\leq \\big(u_{ij,v} \\cdot cap_{v} \\big) \n",
    "    & \\quad | \\quad \\forall v \\in V \\;- \\text{ The amount of logs transported has to be within the capacity of vehicles.}\\\\\n",
    "\\sum_{i \\in N^F}\\big(u_{ij,v}+u_{ji,v}=0\\big)\n",
    "    &\\quad | \\quad \\forall v \\in \\text{Trucks} \\;-\\text{ Trucks can not reach forests.}\\\\\n",
    "\\{i,j\\} \\underset{\\text{exactly one}}{\\in} \\{N^S, N^F, N^H\\} \\Rightarrow x_{ij}=0\n",
    "    &\\quad | \\quad \\text{ Transporting logs between two nodes of the same type is prohibited.}\\\\\n",
    "\\end{align*}\n",
    "\n",
    "**Flow conservation constraints:**\n",
    "\\begin{align*}\n",
    "\\sum_{(i,j) \\in A} x_{ij} - \\sum_{(i,j) \\in A} x_{ji} \\leq s_i - d_i\n",
    "\\end{align*}\n",
    "\n",
    "Since parameters take on the value $0$ if they are not defined for a node, this statement is equivalent to the formulation with three separate lines."
   ]
  },
  {
   "cell_type": "markdown",
   "metadata": {},
   "source": [
    "## Extension\n",
    "\n",
    "Modify the model to support the following problem extension:\n",
    "\n",
    "Due to limited storage capacity, transshipment hubs may only transship logs from a limited number of forest areas. That is, each transshipment hub i may only take logs from at most pi forest areas."
   ]
  },
  {
   "cell_type": "markdown",
   "metadata": {},
   "source": [
    "**Additional Parameter:**\n",
    "\n",
    "\\begin{align*}\n",
    "p_i :& \\text{ max number of forest from which a hub can transported logs}\n",
    "\\end{align*}"
   ]
  },
  {
   "cell_type": "markdown",
   "metadata": {},
   "source": [
    "**Additional Constraint:**\n",
    "\n",
    "\\begin{align*}\n",
    "\\sum_{j \\in N^F} I_{\\{x_{ij}>0\\}} \\leq p_i\n",
    "\\end{align*}"
   ]
  }
 ],
 "metadata": {
  "kernelspec": {
   "display_name": "Python 3",
   "language": "python",
   "name": "python3"
  },
  "language_info": {
   "codemirror_mode": {
    "name": "ipython",
    "version": 3
   },
   "file_extension": ".py",
   "mimetype": "text/x-python",
   "name": "python",
   "nbconvert_exporter": "python",
   "pygments_lexer": "ipython3",
   "version": "3.7.6"
  },
  "toc": {
   "base_numbering": 1,
   "nav_menu": {},
   "number_sections": true,
   "sideBar": true,
   "skip_h1_title": false,
   "title_cell": "Table of Contents",
   "title_sidebar": "Contents",
   "toc_cell": false,
   "toc_position": {},
   "toc_section_display": true,
   "toc_window_display": false
  }
 },
 "nbformat": 4,
 "nbformat_minor": 4
}
