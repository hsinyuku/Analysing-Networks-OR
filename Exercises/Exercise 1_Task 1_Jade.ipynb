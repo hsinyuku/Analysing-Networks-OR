{
 "cells": [
  {
   "cell_type": "markdown",
   "metadata": {},
   "source": [
    "## Model\n",
    "### Model components\n",
    "**Set**\n",
    "\n",
    "\\begin{align*} \n",
    "F: & \\text{ Forest} \\\\  \n",
    "S: & \\text{ Sawmill} \\\\\n",
    "H: & \\text{ Hubs} \\\\  \n",
    "V: & \\text{ Types of Vehicles} & V = \\{\\text{Truck, Transporter}\\}\n",
    "\\end{align*}\n",
    "\n",
    "**Decision Variables**\n",
    "\n",
    "\\begin{align*}\n",
    "y_h =\n",
    "\\left\\{\n",
    "  \\begin{array}{lr}\n",
    "    0 & | & \\text{if h is not built, }& h\\in H \\text{.}\\\\\n",
    "    1 & | & \\text{if h is built, }& h\\in H \\text{.}\n",
    "  \\end{array}\n",
    "\\right.\n",
    "\\end{align*}\n",
    "\n",
    "\\begin{align*} \n",
    "N_{v}: & \\text{ amount of vehicle v (cars)} & v \\in V \\\\  \n",
    "N_{L}^v: & \\text{ amount of logs transported by vehicle v (logs)} & v \\in V \n",
    "\\end{align*}\n",
    "\n",
    "**Parameters**\n",
    "\n",
    "\\begin{align*}\n",
    "D_{s}: & \\text{ demand of logs at the sawmill s, (logs) }& s\\in S \\\\\n",
    "S_{f}: & \\text{ supply of logs at the forest f, (logs)}& f\\in F \\\\\n",
    "C_h: & \\text{ fixed cost of opening a hub, (euro/hub)} & h\\in H \\\\\n",
    "C_{handle}: & \\text{ uniform handling cost per log, (euro/hub)} & \\forall h \\in H \\\\\n",
    "C_{t}^{v}: & \\text{ travel cost per log of vehicle v, (euro/log)} & v\\in V\\\\\n",
    "P: & \\text{ price per log delivered to S, (euro/log)} \\\\\n",
    "V_{cap}^v : & \\text{ capacity (max number of logs) of vehicle v, (logs)} & v \\in V \\\\\n",
    "& (\\text{Truck}_\\text{cap} > \\text{Trans}_\\text{cap}) \\\\\n",
    "\\end{align*}"
   ]
  },
  {
   "cell_type": "markdown",
   "metadata": {},
   "source": [
    "**Objective Function:**\n",
    "\n",
    "\\begin{align*}\n",
    "\\max \\Big( & p\\cdot \\sum_{v \\in V}\\big[N_{v} \\cdot N_{L}^v] \\; - & & | \\; \\text{ price earned for all logs delivered to S}\\\\\n",
    "& C_{handle} \\cdot\\sum_{v \\in V}\\big[N_{v} \\cdot N_{L}^v] \\; - & & | \\; \\text{handling costs of logs at H} \\\\\n",
    "& \\sum_{h \\in H}^{}\\big[y_h \\cdot C_h] \\; - & & | \\; \\text{fixed costs of operating H} \\\\\n",
    "& \\sum_{h \\in H}y_{h} \\sum_{v \\in V}\\big[C_{t}^{v} \\cdot N_{L}^v] \\Big) & &  | \\; \\text{costs of transporting }\\\\ \n",
    "\\end{align*}"
   ]
  },
  {
   "cell_type": "markdown",
   "metadata": {},
   "source": [
    "**Constraints:**\n",
    "\n",
    "\\begin{align*}\n",
    "\\text{All parameters} \\geq 0\\\\\n",
    "N_{L}^v \\leq V_{cap}^v &\\quad | \\quad \n",
    "\\text{amount of logs transported by vehicle v is within its capacity} & v \\in V \\\\\n",
    "\\sum_{v \\in V} N_{v} \\cdot N_{L}^v \\leq D_{s} &\\quad | \\quad \n",
    "\\text{Total amount of logs transported are smaller or equal to the demand at S} & v \\in V \\\\\n",
    "\\end{align*}"
   ]
  }
 ],
 "metadata": {
  "kernelspec": {
   "display_name": "Python 3",
   "language": "python",
   "name": "python3"
  },
  "language_info": {
   "codemirror_mode": {
    "name": "ipython",
    "version": 3
   },
   "file_extension": ".py",
   "mimetype": "text/x-python",
   "name": "python",
   "nbconvert_exporter": "python",
   "pygments_lexer": "ipython3",
   "version": "3.7.7"
  }
 },
 "nbformat": 4,
 "nbformat_minor": 4
}
