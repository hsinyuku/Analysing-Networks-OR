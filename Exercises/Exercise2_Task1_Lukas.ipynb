{
 "cells": [
  {
   "cell_type": "markdown",
   "metadata": {},
   "source": [
    "Solution submitted by:\n",
    "\n",
    "- Hsin-Yu Ku (3038591)\n",
    "- Chân Lê (3038545)\n",
    "- Lukas Schmid (3038594)"
   ]
  },
  {
   "cell_type": "markdown",
   "metadata": {},
   "source": [
    "# Task description\n",
    "The following is the same problem as the first task in Exercise 1; you need to design it as the multicommodity flow model.\n",
    "\n",
    "The company LGLog is active in forest and wood management, transporting logs from the forest to sawmills. The company operates in multiple forests and owns several sawmills. The forest can only be reached by very expensive and specialized forest transporters with high fuel consumption. Therefore, the company wants to build transshipment hubs near the harvested forest areas to move the logs to cheaper and more fuel-efficient trucks that will transport the logs to the sawmills. The company has identified several potential transshipment hubs. Your job is to decide which preselected locations should be chosen.\n",
    "\n",
    "Each transshipment hub has a fixed cost for being open. Vehicles have travel costs depending on the amount of logs they are carrying, which are arc dependent. For each type of vehicle, there is a maximum number of logs that can be carried. Assume that a truck can handle more logs than a forest transporter. Additionally there is a uniform handling cost per log at the hubs. You can assume there are enough vehicles of both types available to carry all of the demand, but multiple vehicles of the same type may not travel on the same arc at the same time.\n",
    "\n",
    "Assume you are aware of the demand at each sawmill, and the supply in terms of logs at each forest. Note that these two quantities need not be balanced. LGLog is paid a fixed price per log delivered to any sawmill. Every hub can be reached from any forest, and every sawmill can be reached from any hub, with different distances in between them. It is also possible to travel directly from the forest to a sawmill. Transporting logs between 1hubs is prohibited. Furthermore, no logs are transported between sawmills nor between forest areas."
   ]
  },
  {
   "cell_type": "markdown",
   "metadata": {},
   "source": [
    "# Sets"
   ]
  },
  {
   "cell_type": "markdown",
   "metadata": {},
   "source": [
    "\\begin{align*}\n",
    "\\text{Directed Graph: } G =&\\; (N, A) \\\\\n",
    "\\text{Nodes: } N =&\\; N^S \\cup N^F \\cup N^T \\cup s \\cup t \\\\\n",
    " & N^S: \\text{ sawmills}\\\\\n",
    " & N^F: \\text{ forests}\\\\\n",
    " & N^H: \\text{ potential transshipment hub locations} \\\\\n",
    "\\text{Vehicles: } V =&\\; \\{\\text{Truck, Transporter}\\} \\\\\n",
    "\\text{Arcs: } A =&\\; \\{(N^H \\times\\ N^F) \\cup (N^H \\times\\ N^S) \\cup (N^S \\times N^F) \\cup \\\\\n",
    " & \\;\\;(s \\times N^F) \\cup (t \\times N^S)\\}\\\\\n",
    "\\text{Commodities: } K =&\\; \\{\\text{Log}\\}\n",
    "\\end{align*}"
   ]
  },
  {
   "cell_type": "markdown",
   "metadata": {},
   "source": [
    "The problem is designed as a min-cost multicommodity flow problem, where each commodity has a single sink and source. Sink and source are both modelled and have no representations in the real world; real sources and sinks of commodities (here: forests and sawmills) are all connected to the modelled sink / source to facilitate the modelling."
   ]
  },
  {
   "cell_type": "markdown",
   "metadata": {},
   "source": [
    "# Parameters"
   ]
  },
  {
   "cell_type": "markdown",
   "metadata": {},
   "source": [
    "\\begin{align*}\n",
    "\\text{Total amount of commodity }k &\\quad a_k\\\\\n",
    "\\end{align*}"
   ]
  },
  {
   "cell_type": "markdown",
   "metadata": {},
   "source": [
    "<u>Node-based parameters:</u>\n",
    "\n",
    "\\begin{align*}\n",
    "\\text{Commodity source} &\\quad s_k \\in N \\\\\n",
    "\\text{Commodity sink} &\\quad t_k \\in N\\\\\n",
    "\\text{Fixed operating cost for hubs} &\\quad o_i \\quad \\forall i \\in N^T\\\\\n",
    "\\end{align*}"
   ]
  },
  {
   "cell_type": "markdown",
   "metadata": {},
   "source": [
    "<u>Vehicle- and arc-based parameters:</u>\n",
    "\n",
    "\\begin{align*}\n",
    "\\text{Vehicle capacity:} & \\;  \\kappa_v \\quad \\forall v \\in V \\\\\n",
    "& (\\kappa_\\text{Truck} > \\kappa_\\text{Transporter}) \\\\\n",
    "\\text{Cost to send a commodity through an arc on a vehicle:} &\\; c_{ij}^{v,k}\\quad \\forall v \\in V, \\; (i,j)\\in A \\\\\n",
    "\\end{align*}"
   ]
  },
  {
   "cell_type": "markdown",
   "metadata": {},
   "source": [
    "<u>Other parameters:</u>\n",
    "\n",
    "\\begin{align*}\n",
    "\\text{Price per commodity delivered to sink} &\\; p_k\\\\\n",
    "\\text{Type of vehicle used on an arc} &\\; u_{ij}^v \\quad \\forall (i,j)\\in A, \\; v \\in V\\\\\n",
    "&\\; u_{ij}^v \\in \\{0, 1 \\}\\\\\n",
    "\\text{Handling cost per log of a commodity:} &\\; h_k\n",
    "\\end{align*}"
   ]
  },
  {
   "cell_type": "markdown",
   "metadata": {},
   "source": [
    "# Variables"
   ]
  },
  {
   "cell_type": "markdown",
   "metadata": {},
   "source": [
    "\\begin{align*}\n",
    "x_{ij}^k \\quad(\\forall (i, j) \\in A,\\; k \\in K): &\\; \\text{flow of a commodity through an arc} \\\\\n",
    "y_i \\quad (\\forall i \\in N^T): &\\; \\text{building a hub at location i} \\\\\n",
    "& y_i \\in \\{0, 1\\}\n",
    "\\end{align*}"
   ]
  },
  {
   "cell_type": "markdown",
   "metadata": {},
   "source": [
    "# Objective"
   ]
  },
  {
   "cell_type": "markdown",
   "metadata": {},
   "source": [
    "\\begin{align*}\n",
    "\\max \\bigg( & p_k \\cdot \\sum_{(i,j)\\in A}\\sum_{k\\in K} x_{ij}^k \\; & \n",
    "   & | \\; \\text{ Revenue is earned for each unit of a commodity delivered to its sink.}\\\\\n",
    "& - \\sum_{k\\in K}\\big[h_k \\cdot \\sum_{i\\in N^T} x_{ij}\\big] \\;  & \n",
    "   & | \\; \\text{Handling costs occur for each unit of commodity flowing through a hub.}\\\\\n",
    "& - \\sum_{i\\in N^T}o_i y_i \\; & \n",
    "  & | \\; \\text{Fixed costs of operating hubs occur only at hubs that have logs transported to them.} \\\\\n",
    "& - \\sum_{k\\in K}\\sum_{(i,j) \\in A}\\big[ x_{ij}^k \\sum_{v \\in V}(c_{ij}^{v,k} \\cdot u_{ij}^v)\\big] \\Big) & \n",
    "  & | \\; \\text{Transport costs occur for every commodity through every arc, depending on the vehicle used.} \\bigg) \\\\ \n",
    "\\end{align*}"
   ]
  },
  {
   "cell_type": "markdown",
   "metadata": {},
   "source": [
    "# Constraints"
   ]
  },
  {
   "cell_type": "markdown",
   "metadata": {},
   "source": [
    "\\begin{align*}\n",
    "u_{ij}^v \\in \\{0,1\\}\n",
    "    & \\quad | \\quad  \\text{binarity of variable}\\\\\n",
    "y_i \\in \\{0,1\\}\n",
    "    & \\quad | \\quad  \\text{binarity of variable}\\\\   \n",
    "0 \\leq \\sum_{k \\in K}x_{ij}^k \\leq \\sum_{v \\in V}u_{ij}^v \\cdot \\kappa_v \n",
    "    & \\quad | \\quad \\text{Flow through arc must be smaller than sum of capacities of vehicles used in the arc.}\\\\\n",
    "\\sum_{i \\in N^F}(u_{ij}^\\text{Truck}+u_{ji}^\\text{Truck})=0\n",
    "    &\\quad | \\quad \\text{Trucks can not reach forests.}, \\forall (i, j) \\in \\{N^T\\times N^F \\cup N^S\\times N^F\\} \\\\\n",
    "0 \\leq x_{ij}^k \\leq a_k\n",
    "    &\\quad | \\quad \\text{Flow through any arc is limited by amount of commodity.}\n",
    "\\end{align*}"
   ]
  },
  {
   "cell_type": "code",
   "execution_count": null,
   "metadata": {},
   "outputs": [],
   "source": []
  }
 ],
 "metadata": {
  "kernelspec": {
   "display_name": "Python 3",
   "language": "python",
   "name": "python3"
  },
  "language_info": {
   "codemirror_mode": {
    "name": "ipython",
    "version": 3
   },
   "file_extension": ".py",
   "mimetype": "text/x-python",
   "name": "python",
   "nbconvert_exporter": "python",
   "pygments_lexer": "ipython3",
   "version": "3.7.6"
  },
  "toc": {
   "base_numbering": 1,
   "nav_menu": {},
   "number_sections": true,
   "sideBar": true,
   "skip_h1_title": false,
   "title_cell": "Table of Contents",
   "title_sidebar": "Contents",
   "toc_cell": false,
   "toc_position": {},
   "toc_section_display": true,
   "toc_window_display": false
  }
 },
 "nbformat": 4,
 "nbformat_minor": 4
}
