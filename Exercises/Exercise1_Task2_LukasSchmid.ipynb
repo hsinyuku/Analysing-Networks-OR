{
 "cells": [
  {
   "cell_type": "markdown",
   "metadata": {},
   "source": [
    "# Task description\n",
    "The following is based on problem 12.23 from “Model Building in Mathematical Programming, Fourth Edition” by H. Paul Williams (John Wiley & Sons, 2002). A small milk processing company is committed to **collecting milk from 20 farms and taking it back to the depot for processing**. The company has **one tanker truck with a capacity for carrying 80 000 liters** of milk. **Some of the farms are small and need a collection only every other day**. The **other farms need a collection every day**. The **route of the truck starts and ends at a depot**, and **it is possible to travel between all nodes**. The goal is to find the optimal route for the tanker truck on each day, bearing in mind that it has to:\n",
    "\n",
    "1. Visit all the ‘every day’ farms,\n",
    "2. Visit some of the ‘every other day’ farms, and\n",
    "3. Work within its capacity.\n",
    "\n",
    "On alternate days it must again visit the ‘every day’ farms, but also visit the ‘every other day’ farms not visited on the previous day."
   ]
  },
  {
   "cell_type": "markdown",
   "metadata": {},
   "source": [
    "# Sets\n",
    "\n",
    "\\begin{align*}\n",
    "\\text{Directed Graph: } & G = (V, A), \\; V = F \\cup 0 \\\\\n",
    "\\text{Farms: } & F = \\{1, \\dots, 20\\} \\\\\n",
    "\\text{Depot: } & \\{0\\} \\\\\n",
    "\\text{Arcs: }  & A = V \\times V \\quad (\\textit{it is possible to travel between all nodes})\n",
    "\\end{align*}"
   ]
  },
  {
   "cell_type": "markdown",
   "metadata": {},
   "source": [
    "# Parameters\n",
    "\\begin{align*}\n",
    "C:      & \\text{ capacity of a the tanker truck} \\\\\n",
    "s_i:    & \\text{ Milk supply of farm } i \\in F \\\\\n",
    "c_{ij}: & \\text{ Cost of traveling arc } (i,j) \\in A\\\\\n",
    "x_{ijd} &=\n",
    "\\left\\{\n",
    "  \\begin{array}{lr}\n",
    "    1 & | & \\text{if the truck travels directly from node i to j on day d}\\\\\n",
    "    0 & | & \\text{otherwise}\n",
    "  \\end{array}\n",
    "\\right.\n",
    "\\end{align*}"
   ]
  },
  {
   "cell_type": "markdown",
   "metadata": {},
   "source": [
    "## Objective\n",
    "\\begin{equation}\n",
    "\\min \\sum_{i \\in V}\\sum_{j \\in V}c_{ij}\\sum_{d}x_{ijd}\n",
    "\\end{equation}"
   ]
  },
  {
   "cell_type": "markdown",
   "metadata": {},
   "source": [
    "# Open Questions\n",
    "\n",
    "- Can the tanker truck make more than one tour per day? If not, what happens if it can't visit all the bigger farms in one tour?\n",
    "- Can the truck re-visit nodes it has already visited in a tour? (I assume that no)."
   ]
  }
 ],
 "metadata": {
  "kernelspec": {
   "display_name": "Python 3",
   "language": "python",
   "name": "python3"
  },
  "language_info": {
   "codemirror_mode": {
    "name": "ipython",
    "version": 3
   },
   "file_extension": ".py",
   "mimetype": "text/x-python",
   "name": "python",
   "nbconvert_exporter": "python",
   "pygments_lexer": "ipython3",
   "version": "3.7.6"
  },
  "toc": {
   "base_numbering": 1,
   "nav_menu": {},
   "number_sections": true,
   "sideBar": true,
   "skip_h1_title": false,
   "title_cell": "Table of Contents",
   "title_sidebar": "Contents",
   "toc_cell": false,
   "toc_position": {},
   "toc_section_display": true,
   "toc_window_display": false
  }
 },
 "nbformat": 4,
 "nbformat_minor": 4
}
