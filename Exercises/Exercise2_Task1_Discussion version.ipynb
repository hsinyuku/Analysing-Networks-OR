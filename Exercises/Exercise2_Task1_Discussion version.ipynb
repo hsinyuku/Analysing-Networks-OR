{
 "cells": [
  {
   "cell_type": "code",
   "execution_count": 5,
   "metadata": {},
   "outputs": [],
   "source": [
    "# We need a graph representation with k commodities, sources and sinks."
   ]
  },
  {
   "cell_type": "markdown",
   "metadata": {},
   "source": [
    "# Sets"
   ]
  },
  {
   "cell_type": "markdown",
   "metadata": {},
   "source": [
    "There are three kinds of nodes: forests $N^F$, sawmills $N^S$, and transshipment hubs $N^H$. Forests and sawmills act as sources and sinks (respectively) in the real-world representation of the problem. The nodes for the hubs represent potential locations to build hubs. Therefore, our graph consists of:"
   ]
  },
  {
   "cell_type": "markdown",
   "metadata": {},
   "source": [
    "\\begin{align*}\n",
    "G =&\\; (N, A) \\\\\n",
    "N =&\\; N^F \\cup N^S \\cup N^H \n",
    "\\end{align*}"
   ]
  },
  {
   "cell_type": "markdown",
   "metadata": {},
   "source": [
    "There are two types of vehicles available:\n",
    "\\begin{align*}\n",
    "V =&\\; \\{\\text{Truck, Transporter}\\}\n",
    "\\end{align*}"
   ]
  },
  {
   "cell_type": "markdown",
   "metadata": {},
   "source": [
    "Next we define the **arcs**: according to the exercise, transporting logs between sawmills and between forests is prohibited. Transporting \"backwards\" (from sawmills to forests, sawmills to hubs, and hubs to forests) is not possible. We further prohibit transporting between hubs.\n",
    "\\begin{align*}\n",
    "    A = (N^F \\times N^H) \\cup (N^H \\times N^S) \\cup (N^F \\times N^S)\n",
    "\\end{align*}"
   ]
  },
  {
   "cell_type": "markdown",
   "metadata": {},
   "source": [
    "Up until now, the model is only specified for a single type of logs. We have $K$ different types of logs, where $K\\in \\mathbb{N}$.\n",
    "\n",
    "In further notation, every $k$ will denote one type of log, such that $k \\in \\{1, \\dots, K\\}$ and $k\\in \\mathbb{N}$."
   ]
  },
  {
   "cell_type": "markdown",
   "metadata": {},
   "source": [
    "We need to adapt the graph accounting for the multiple types of logs. In principle, we assume that each forest can produce every type of log and each sawmill can process every type of log. Also, we introduce artificial sinks and sources for each type of log to facilitate modelling:\n",
    "\n",
    "\\begin{align*}\n",
    "S = \\{S^1, \\dots, S^k, \\dots, S^K\\} &\\quad  \\text{ (set of artificial sources)}\\\\\n",
    "T = \\{T^1, \\dots, T^k, \\dots, T^K\\} &\\quad \\text{ (set of artificial sinks)}\n",
    "\\end{align*}"
   ]
  },
  {
   "cell_type": "markdown",
   "metadata": {},
   "source": [
    "The artificial sinks and sources are connected to each forest and sawmill respectively. That means that there exist arcs \n",
    "\n",
    "\\begin{align*}\n",
    "S^k \\times N^F \\text{ and } N^S\\times T^k \\quad | \\quad \\forall k\n",
    "\\end{align*}\n",
    "\n",
    "However, these connections are not part of $A$ and will be treated seperately."
   ]
  },
  {
   "cell_type": "markdown",
   "metadata": {},
   "source": [
    "# Variables"
   ]
  },
  {
   "cell_type": "markdown",
   "metadata": {},
   "source": [
    "There are two decision variables. The first is the number of units of a certain type of logs $k$ transported through arc $(i,j)$:\n",
    "\n",
    "$$x_{ij}^k \\in \\mathbb{N}_0$$"
   ]
  },
  {
   "cell_type": "markdown",
   "metadata": {},
   "source": [
    "The second variable is the decision on whether to build a hub at a potential location.\n",
    "\n",
    "\\begin{align*}\n",
    "y_i =\n",
    "  \\begin{cases}\n",
    "    1 & \\text{if hub } i \\text{ is built}\\\\\n",
    "    0 & \\text{otherwise}.\n",
    "  \\end{cases} \\quad  \\forall i \\in N^H\n",
    "\\end{align*}"
   ]
  },
  {
   "cell_type": "markdown",
   "metadata": {},
   "source": [
    "# Parameters"
   ]
  },
  {
   "cell_type": "markdown",
   "metadata": {},
   "source": [
    "## Node-based parameters\n",
    "\n",
    "Some parameters are related to the nodes. Hubs have fixed operation costs and unit costs of handling logs.\n",
    "\n",
    "\\begin{align*}\n",
    "o_i \\in \\mathbb{R}^{+} \\quad | \\quad \\forall i \\in N^H & \\text{ (operation cost of hub $i$)}\\\\\n",
    "h_{i}^k \\in \\mathbb{R}^{+} \\quad | \\quad \\forall i \\in N^H & \\text{ (handling cost per unit of type $k$ at hub $i$)}\\\\\n",
    "\\end{align*}"
   ]
  },
  {
   "cell_type": "markdown",
   "metadata": {},
   "source": [
    "Both forests and sawmills have a maximum capacity for each type of log, which are supply $s_i^k$ (for forests) and demand $d_i^k$ (for sawmills) respectively.\n",
    "\n",
    "\\begin{align*}\n",
    "s_i^k \\in \\mathbb{Z}^+ \\quad | \\quad \\forall i \\in N^F \\\\\n",
    "d_i^k \\in \\mathbb{Z}^+ \\quad | \\quad \\forall i \\in N^S\n",
    "\\end{align*}"
   ]
  },
  {
   "cell_type": "markdown",
   "metadata": {},
   "source": [
    "## Arc-based parameters"
   ]
  },
  {
   "cell_type": "markdown",
   "metadata": {},
   "source": [
    "Every arc can be travelled by at most one of a specified type of vehicle. That is, all arcs that connect to forests can only be travelled by transporters; arcs between hubs and sawmills can only be travelled by transporters. Which vehicle is used on an arc $(i,j)$ is denoted by $v_{ij}$, so the capacity of an arc is:\n",
    "\n",
    "$$\\kappa_{ij} = \\kappa_{v_{ij}} \\quad | \\quad \\forall (i,j) \\in A,\\; v \\in V$$\n",
    "\n",
    "where $\\kappa_{Truck} > \\kappa_{Transporter}$."
   ]
  },
  {
   "cell_type": "markdown",
   "metadata": {},
   "source": [
    "The capacity of an arc that connects the source of each type of log to a forest is equal to the supply of that forest:\n",
    "\n",
    "$$\\kappa_{S^ki} = s_i \\quad | \\quad \\forall i \\in N^F, \\forall k$$ \n",
    "\n",
    "In similar fashion, the capacity of the arcs connecting sawmills with the sink for each type of log is equal to the demand of this sawmill:\n",
    "\n",
    "$$\\kappa_{iT^k} = d_i \\quad | \\quad \\forall i \\in N^S, \\forall k$$"
   ]
  },
  {
   "cell_type": "markdown",
   "metadata": {},
   "source": [
    "The total cost of transporting a unit of a log of type $k$ on an arc $(i,j)$ is equal to the cost of the vehicle travelling that arc to travel that arc:\n",
    "\n",
    "\\begin{align*}\n",
    "c_{v_{ij}}^k = c_{ij}^k \\in \\mathbb{Z}^+\n",
    "\\end{align*}\n",
    "\n",
    "Since every arc can only be travelled by one type of vehicle (and one vehicle at a time), we do not need to make the cost vehicle-specific. Instead, transport costs have to be calculated before initialising the model, by taking into account vehicle characteristics like fuel use and arc characteristics like length, inclination, and possibly other factors.\n",
    "\n",
    "The total cost of transporting a type of log on an arc will be the cost per unit of that type, multiplied by the number of units of logs transported (will be defined further down in the objective)."
   ]
  },
  {
   "cell_type": "markdown",
   "metadata": {},
   "source": [
    "The transport costs from sources and to sinks are $0$. This is because the sources and sink nodes are artificial.\n",
    "\n",
    "$$c_{S^kj}^k =  c_{iT^k}^k = 0, \\; \\forall i \\in N^S, \\; \\forall j \\in N^F,\\;\\forall k \\in K $$\n"
   ]
  },
  {
   "cell_type": "markdown",
   "metadata": {},
   "source": [
    "## Other parameters"
   ]
  },
  {
   "cell_type": "markdown",
   "metadata": {},
   "source": [
    "The price $r^k$ of a log of type $k$ occurs for each unit that it is delivered to its corresponding sink $T_k$.\n",
    "\n",
    "$$r^k \\in \\mathbb{R}^+$$\n",
    "\n",
    " The condition on when the price is counted towards the objective function, combined with the zero costs of the arcs between $N^S$ and $S^k$ and the flow conservation constraints will guarantee that each unit of a log will be modelled to reach its sink."
   ]
  },
  {
   "cell_type": "markdown",
   "metadata": {},
   "source": [
    "# Objective function"
   ]
  },
  {
   "cell_type": "markdown",
   "metadata": {},
   "source": [
    "The first part of the objective function is the **revenue generated** by all the commodities.\n",
    "\n",
    "$$\n",
    "\\text{revenue} = \\sum_{k=1}^K \\sum_{i \\in N^s} x_{iT^k}^k r^k \n",
    "$$\n",
    "\n",
    "Note that the revenue is only generated for logs reaching the sink of the respective log type. However, the constraints will make sure that every log that leaves a source will also reach the sink."
   ]
  },
  {
   "cell_type": "markdown",
   "metadata": {},
   "source": [
    "The rest of the objective function accounts for different costs. First off, there are handling costs that occur at each hub for all units of this type of log reaching the hub from all forest nodes. To get the full handling costs, we need to sum that for all types of logs and all hubs.\n",
    "\n",
    "$$\\text{handling costs} = \\sum_{k = 1}^{K} \\Big[ \\sum_{j \\in N^H} \\big[ \\sum_{i \\in N^F} x_{ij}^k h_j^k \\big] \\Big]$$"
   ]
  },
  {
   "cell_type": "markdown",
   "metadata": {},
   "source": [
    "We also have to substract the costs that stem from operating hubs (the activation or operating costs). \n",
    "\n",
    "$$\n",
    "\\text{operation costs} = \\sum_{i \\in N^H}o_i y_i\n",
    "$$"
   ]
  },
  {
   "cell_type": "markdown",
   "metadata": {},
   "source": [
    "Besides , transporting the logs also produces costs. The transport costs occur at every arc $(i,j) \\in A$ and are dependent on the number of logs for each type $k$ of logs transported.\n",
    "\n",
    "$$\\text{transport costs} = \\sum_{\\forall (i,j) \\in A} x_{ij}^kc_{ij}^k $$\n",
    "\n",
    "Note that, since the arcs from $S$ and to $T$ are not in $A$, logs flowing from sources and sinks will not produce any costs."
   ]
  },
  {
   "cell_type": "markdown",
   "metadata": {},
   "source": [
    "The ultimate objective function is \n",
    "\n",
    "$$max\\text{(revenue - handling costs - operation costs - transport costs)}$$ \n",
    "\n",
    "and can be written as:\n",
    "\n",
    "\\begin{align*}\n",
    " \\\\\n",
    " \\max \\bigg( & \\sum_{k=1}^K \\sum_{i \\in N^s} x_{iT^k}^k r^k && \\text{ (revenue) } \\\\\n",
    "- &  \\sum_{k = 1}^{K} \\Big[ \\sum_{j \\in N^H} \\big[ \\sum_{i \\in N^F} x_{ij}^k h_j^k \\big] \\Big] && \\text{ (handling costs at hubs) } \\\\\n",
    "- &  \\sum_{i \\in N^H}o_i y_i && \\text{ (fixed operation costs for hubs)} \\\\\n",
    "- &  \\sum_{\\forall (i,j) \\in A} x_{ij}^kc_{ij}^k \\bigg) && \\text{ (transport costs)} \n",
    "\\end{align*}"
   ]
  },
  {
   "cell_type": "markdown",
   "metadata": {},
   "source": [
    "# Constraints"
   ]
  },
  {
   "cell_type": "markdown",
   "metadata": {},
   "source": [
    "## Make sure that only the right kind of commodity can reach the sink / source\n",
    "\n",
    "That is, for any arc connecting a sawmill $N^S$ and a sink $T^k$, the number of logs of type $l \\neq k$ flowing through that arc has to be 0.\n",
    "\n",
    "\\begin{align*}\n",
    "x_{iT^k}^l = 0 \\quad | \\quad \\forall i \\in N^S, \\; k \\leq K, \\; l \\leq K, \\; l \\neq k\n",
    "\\end{align*}\n"
   ]
  },
  {
   "cell_type": "markdown",
   "metadata": {},
   "source": [
    "The same holds for arcs between the sources $S^k$ and the forests $N^F$.\n",
    "\n",
    "\\begin{align*}\n",
    "x_{S^ki}^l = 0 \\quad | \\quad \\forall i \\in N^F, \\; k \\leq K, \\; l \\leq K, \\; l \\neq k\n",
    "\\end{align*}"
   ]
  },
  {
   "cell_type": "markdown",
   "metadata": {},
   "source": [
    "## The total number of logs of all types transported on an arc (i,j) cannot exceed the arc capacity $\\kappa_{ij}$\n",
    "\n",
    "$$\\sum_{k=1}^K x_{ij}^k \\leq \\kappa_{ij} \\quad | \\quad \\forall (i,j) \\in A$$\n",
    "\n",
    "Note that, since $A$ does not include the arcs from sources and to sinks, we do not impose any capacity restrains on these arcs. The only restraints there will be the supply of forests and demands of sawmills; see the third constraint."
   ]
  },
  {
   "cell_type": "markdown",
   "metadata": {},
   "source": [
    "## Flow conservation constraints\n",
    "\n",
    "The capacity of arcs connecting the forests with the sources and the sawmills with the sinks has already been established as the supply / demand of the respective forest / sawmill. In the flow conservation, we have to account for the possibility of the demand not matching the supply; therefore, we have to allow for the net inflow of any forest being smaller or equal than the supply of this forest (and similarly, for sawmills). Mathematically, this possibility can be expressed as:\n",
    "\n",
    "$$\n",
    "\\sum_{\\forall (i,j) \\in A}x_{ij}^k \\leq s_i^k \\quad \\forall k \\in K, \\; i \\in N^F\\\\\n",
    "$$\n",
    "\n",
    "This means that the total amount of units of a commodity $k$ leaving any forest is smaller or equal than the supply of the forest. The same holds for sawmills, where\n",
    "\n",
    "$$\n",
    "\\sum_{\\forall (i,j) \\in A}x_{ji}^k \\leq d_i^k \\quad \\forall k \\in K, \\; i \\in N^S\\\\\n",
    "$$\n",
    "\n",
    "so that the total amount of units of a commodity $k$ reaching any sawmill is smaller or equal than the demand of that sawmill to commodity $k$."
   ]
  },
  {
   "cell_type": "markdown",
   "metadata": {},
   "source": [
    "However, we instead decide to impose zero flow conservation on all nodes $i \\in N$. That means that the net inflow to every node $i \\in N$ has to be zero. This is written as \n",
    "\n",
    "$$\n",
    "\\sum_{\\forall (i,j) \\in A}x_{ij}^k = \\sum_{\\forall (j,i) \\in A}x_{ji}^k \\quad \\forall i \\in N,\\; k \\in K\n",
    "$$\n",
    "\n",
    "To account for possibilities where supply and demand do not match, we allow for \"residual\" supply or demand in sources and sinks. That is, the amount of units of a commodity $k$ flowing from the source $S^k$ to a forest $i \\in N^F$ is smaller or equal than the supply of this commodity of all forests, $s_i^k$. The same holds for sinks and sawmills. \n",
    "\n",
    "$$\n",
    "x_{S^ki}^k \\leq s_i^k \\quad \\forall k \\in K, \\; i \\in N^F \\\\\n",
    "x_{iT^k}^k \\leq d_i^k \\quad \\forall k \\in K, \\; i \\in N^S \\\\\n",
    "$$ "
   ]
  },
  {
   "cell_type": "markdown",
   "metadata": {},
   "source": [
    "# Extensions"
   ]
  },
  {
   "cell_type": "markdown",
   "metadata": {},
   "source": [
    "Hubs can only take logs from at most $p_i$ forest areas, $i \\in N^F$"
   ]
  },
  {
   "cell_type": "markdown",
   "metadata": {},
   "source": [
    "\\begin{align*}\n",
    "u_ij =\n",
    "  \\begin{cases}\n",
    "    1 & \\text{if hub } j \\text{ take logs from forest} i\\\\\n",
    "    0 & \\text{otherwise}.\n",
    "  \\end{cases} \\quad  \\forall i \\in N^F, j \\in N^H\n",
    "\\end{align*}\n",
    "\n",
    "$$\n",
    "\\sum_{(i,j) \\in A} u_{ij} \\leq p_i \\quad \\forall  \\quad i \\in N^F, j\\in N^H.\n",
    "$$"
   ]
  }
 ],
 "metadata": {
  "kernelspec": {
   "display_name": "Python 3",
   "language": "python",
   "name": "python3"
  },
  "language_info": {
   "codemirror_mode": {
    "name": "ipython",
    "version": 3
   },
   "file_extension": ".py",
   "mimetype": "text/x-python",
   "name": "python",
   "nbconvert_exporter": "python",
   "pygments_lexer": "ipython3",
   "version": "3.7.6"
  },
  "toc": {
   "base_numbering": 1,
   "nav_menu": {},
   "number_sections": true,
   "sideBar": true,
   "skip_h1_title": false,
   "title_cell": "Table of Contents",
   "title_sidebar": "Contents",
   "toc_cell": false,
   "toc_position": {},
   "toc_section_display": true,
   "toc_window_display": false
  }
 },
 "nbformat": 4,
 "nbformat_minor": 4
}
