{
 "cells": [
  {
   "cell_type": "markdown",
   "metadata": {},
   "source": [
    "# Summary of the notation of the paper and its translation into code"
   ]
  },
  {
   "cell_type": "markdown",
   "metadata": {},
   "source": [
    "# Sets\n",
    "$G=(V, A)$ is the graph, where $V=\\{1, 2, \\dots, N\\}$. Arcs are directional, where arc $(i,j)$ leads from node $i$ to node $j$ (and vice versa). All arcs can be travelled in both directions.\n",
    "\n",
    "The journey of one train, its path, is denoted as $P=\\{1, i_1, i_2, \\dots, N\\}$, so that $1$ is the origin of the path, $N$ its destination, and $i_1, i_2, \\dots$ are the nodes travelled. A feasible path is one where all movement constraints and time constraints are fulfilled.\n"
   ]
  },
  {
   "cell_type": "markdown",
   "metadata": {},
   "source": [
    "# Parameters and Variables\n",
    "\n",
    "$f(i,j)$: according to the authors, it is the earliest feasible arrival time at node $i$, provided one can depart along arc $(i,j)$. For now, a better interpretation seems to be that $f(i,j)$ is the arrival time at node $i$ under the current solution for a given path. Written as `f[i][j]`"
   ]
  },
  {
   "cell_type": "markdown",
   "metadata": {},
   "source": [
    "# Constraints\n",
    "Arc $a=(i,j)$ is closed for all other trains when a train travels along it from station $i$ to statoin $j$, departing at time $t$ and traveling for duration $d(a)$ . This closing period is denoted as\n",
    "\n",
    "$$[t, t+d(a)]$$\n",
    "\n",
    "A station is closed for a security duration $\\Delta$ after a train leaves a \n",
    "station.\n",
    "\n",
    "A station has separate capacities for parking and passing through. Only one train can be parked at a station at each moment, but on other train can pass through the station while one other train is parked there.\n",
    "\n",
    "A route along arc $(i,j)$ is blocked if, for this specific route, the train can not depart from mode $i$ to node $j$. This can have different reasons, which will be explained below."
   ]
  },
  {
   "cell_type": "markdown",
   "metadata": {},
   "source": [
    "# Splitting the problem"
   ]
  },
  {
   "cell_type": "markdown",
   "metadata": {},
   "source": [
    "\n",
    "\n",
    "## Calculating arrival times\n",
    "\n",
    "The problem can be solved by finding the earliest arrival time at each node, beginning from the start node. Hence, the main task is to calculate an arrival time for a current solution, then updating it if later restrictions make that necessary.\n",
    "\n",
    "Once the arrival time $f(i,j)$ is known, there are three different possibilities for the arrival time $f(j,k)$:\n",
    "\n",
    "1. The path is not blocked along arc $(j,k)$. That means that the earliest arrival time $f(j,k)$ is the arrival time $f(i,j)$, plus waiting time at node $i$ and travel time on arc $(i,j)$, for the node $i$ that minimises this sum.\n",
    "\\begin{align*}\n",
    "f(j,k) = \\underset{i,p_i}{\\min}[f(i,j) + p_i + t_{ij}]\n",
    "\\end{align*}\n",
    "We have to account for the possibility that an arc may be reached via different routes.\n",
    "\n",
    "2. The path is blocked along arc $(j,k)$ and can not be unblocked. In that case, the route can not contain this arc. A route is irreversibly blocked if the train arrives after the closing of the departure time window.\n",
    "\n",
    "3. A path is blocked along arc $(i,j)$, but can be unblocked. In this case, the train might arrive within either the parking time window of departure time window by extending its parking time at other nodes or taking another route. The last option is not considered by the authors. The first option means that we have now two possible values for $f(i_1, i_2)$: to the already existing solution derived from earlier steps, we add the new one with increased parking times in some node preceding $i_1$.\n",
    "\n",
    "If an arc is blocked for a current path solution, we write $f(i,j) = \\infty$."
   ]
  },
  {
   "cell_type": "markdown",
   "metadata": {},
   "source": [
    "## Blocked routes\n",
    "\n",
    "A path is blocked on arc $(i,j)$ if \n",
    "\n",
    "1. Departure is allowed before parking (it is not necessary to wait for departure while parking), but arrival occurs before departure is allowed: $f(i,j) < \\gamma_{ij} < \\alpha_i$\n",
    "2. Departure is allowed at some point in time during the parking period (it is possible to wait for departure while parking), but arrival occurs before parking is allowed: $f(i,j) < \\alpha_i < \\gamma_{ij} < \\beta_i$\n",
    "3. Departure is allowed after the parking period (it is not possible to wait for departure while parking), and arrival occurs before parking: $f(i,j) < \\alpha_i < \\beta_i < \\gamma_{ij}$\n",
    "4. Arrival occurs after departure is allowed: $\\delta_{ij} < f(i,j)$"
   ]
  },
  {
   "cell_type": "markdown",
   "metadata": {},
   "source": [
    "# Reading in the data"
   ]
  },
  {
   "cell_type": "code",
   "execution_count": 142,
   "metadata": {},
   "outputs": [],
   "source": [
    "import math\n",
    "import numpy as np\n",
    "\n",
    "# all fixed values:\n",
    "alphaList = [0, 18, 35, 64, 35, 64, 0]\n",
    "betaList  = [math.inf, 30, 45, 75, 50, 75, math.inf]\n",
    "gammaList = [10, 10, 15, 28, 26, 32, 35, 43, 70, 30, 48, 72]\n",
    "deltaList = [15, 25, 25, 35, 34, 60, 50, 50, 99, 80, 55, 80]\n",
    "nodes     = [1, 2, 3, 4, 5, 6, 7]\n",
    "arcs      = {1:[2, 3, 5], 2:[4, 6, 7], 3:[2, 4], 4:[7], 5:[2, 6], 6:[7]}\n",
    "\n",
    "# to facilitate indexing, we zip the lists into dictionaries:\n",
    "alpha = dict(zip(nodes, alphaList))\n",
    "beta  = dict(zip(nodes, betaList ))\n",
    "# gamma and delta have tuples as keys\n",
    "arccount = 0\n",
    "gamma = {}\n",
    "delta = {}\n",
    "for start in arcs.keys():\n",
    "    for end in arcs[start]:\n",
    "        gamma[(start, end)] = gammaList[arccount]\n",
    "        delta[(start, end)] = deltaList[arccount]\n",
    "        arccount += 1"
   ]
  },
  {
   "cell_type": "markdown",
   "metadata": {},
   "source": [
    "# Finding a solution"
   ]
  },
  {
   "cell_type": "code",
   "execution_count": 91,
   "metadata": {},
   "outputs": [],
   "source": [
    "# Setting feasible arrival times at source to 0:\n",
    "feasible[1] = {item:0 for (item, value) in list(feasible[1].items())}\n",
    "\n",
    "# Writing a function to determine whether a route is blocked for arc (i,j):\n",
    "def isBlocked(alpha, beta, gamma, delta, arrival):\n",
    "    # check: is a feasible arrival time for i and j already defined?\n",
    "    if math.isnan(feasible[i][j]):\n",
    "        raise ValueError('There is no arrival time for the start node yet.')\n",
    "    # first possibility: current arrival time is higher than delta\n",
    "    elif feasible[i][j] > depart[i][j][1]:\n",
    "        return -1 # need three outputs, because this can not be unblocked\n",
    "    # second possibility: arrival occurs before parking, before departure time\n",
    "    elif feasible[i][j] < depart[i][j][0] < parking[i][0]:\n",
    "        return 0 # this can be unblocked\n",
    "    # third: arrival occurs before departure, before parking time\n",
    "    elif feasible[i][j] < parking[i][0] < depart[i][j][0]:\n",
    "        return 0 # this can be unblocked\n",
    "    else:\n",
    "        return False"
   ]
  },
  {
   "cell_type": "code",
   "execution_count": null,
   "metadata": {},
   "outputs": [],
   "source": [
    "# Workflow outline:\n",
    "# - initiate the set of unprocessed paths U to only the source, and the set of useful\n",
    "#   paths P to an empty set\n",
    "# - select a path q from the set of unprocessed paths and remove it from U\n",
    "# - for all nodes w in the network that are connected to the ending of q:\n",
    "#   - check if w is a feasible extension to q; if it is, add path (q,w) to U\n",
    "# - add q to P\n",
    "# - for all v that are an end node to paths in both U and P:\n",
    "#   - apply dominance criterium\n",
    "# do all this as long as you can extend the paths in U\n",
    "\n",
    "# necessary sets:\n",
    "# - U must be a set of paths. For each path q in U, it must contain information\n",
    "#   about  the parking and arrival times at each node in q.\n",
    "# - P must also be a set of paths, which holds the same information as U."
   ]
  },
  {
   "cell_type": "code",
   "execution_count": 165,
   "metadata": {},
   "outputs": [
    {
     "data": {
      "text/plain": [
       "[2, 3, 5]"
      ]
     },
     "execution_count": 165,
     "metadata": {},
     "output_type": "execute_result"
    }
   ],
   "source": [
    "U = [{\"route\": [1],\"parking\":0, \"arrival\":0}]\n",
    "q = U[0]\n",
    "q[\"route\"][-1]\n",
    "arcs[q[\"route\"][-1]]"
   ]
  },
  {
   "cell_type": "code",
   "execution_count": 168,
   "metadata": {},
   "outputs": [
    {
     "name": "stdout",
     "output_type": "stream",
     "text": [
      "2\n",
      "3\n",
      "5\n"
     ]
    }
   ],
   "source": [
    "q = U[0]\n",
    "for nextNode in arcs[q[\"route\"][-1]]:\n",
    "      # getting possible extensions to the last node in the current path\n",
    "    print(nextNode)"
   ]
  }
 ],
 "metadata": {
  "kernelspec": {
   "display_name": "Python 3",
   "language": "python",
   "name": "python3"
  },
  "language_info": {
   "codemirror_mode": {
    "name": "ipython",
    "version": 3
   },
   "file_extension": ".py",
   "mimetype": "text/x-python",
   "name": "python",
   "nbconvert_exporter": "python",
   "pygments_lexer": "ipython3",
   "version": "3.7.6"
  }
 },
 "nbformat": 4,
 "nbformat_minor": 4
}
