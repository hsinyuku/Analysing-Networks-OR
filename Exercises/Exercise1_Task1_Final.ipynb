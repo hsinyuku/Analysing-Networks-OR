{
 "cells": [
  {
   "cell_type": "markdown",
   "metadata": {},
   "source": [
    "# Task description\n",
    "The company **LGLog** is active in forest and wood management, transporting logs from the forest to sawmills. The company operates in multiple forests and owns several sawmills. The forest can only be reached by very expensive and specialized forest transporters with high fuel consumption. Therefore, the company wants to build transshipment hubs near the harvested forest areas to move the logs to cheaper and more fuel efficient trucks that will transport the logs to the sawmills. The company has identified several potential transshipment hubs. Your job is to decide which preselected locations should be chosen.\n",
    "\n",
    "Each transshipment hub has a fixed cost for being open. Vehicles have\n",
    "travel costs depending on the amount of logs they are carrying, which are arc dependent. Each type of vehicle has a capacity on the number of logs it can carry. Assume that the truck can handle more logs than a forest transporter. Additionally there is a uniform handling cost per log at the hubs. You can assume there are enough vehicles of both types available to carry all of the demand, but multiple vehicles of the same type may not travel on the same arc at the same time.\n",
    "\n",
    "Assume you are aware of the demand at each sawmill and the supply\n",
    "in terms of logs at each forest. Note that these two quantities need not be balanced. LGLog is paid a fixed price per log delivered to any sawmill. Every hub can be reached from any forest and every sawmill can be reached from any hub with different distances in between them. It is also possible to travel directly from the forst to a sawmill. Transporting logs between hubs is prohibited. Furthermore, no logs are transported between sawmills nor between forest areas."
   ]
  },
  {
   "cell_type": "markdown",
   "metadata": {},
   "source": [
    "## Model\n",
    "### Model components\n",
    "**Set**\n",
    "\n",
    "\\begin{align*}\n",
    "\\text{Directed Graph: } & G = (N, A) \\\\\n",
    "\\text{Nodes: } & N = N^S \\cup N^F \\cup N^T \\\\\n",
    " & N^S \\text{: sawmills}\\\\\n",
    " & N^F\\text{: forests}\\\\\n",
    " & N^H\\text{: potential transshipment hub locations} \\\\\n",
    "\\text{Vehicles: } & V = \\{\\text{Truck, Transporter}\\}\n",
    "\\end{align*}\n",
    "\n",
    "**Decision Variable**\n",
    "\n",
    "\\begin{align*}\n",
    "y_i =\n",
    "\\left\\{\n",
    "  \\begin{array}{lr}\n",
    "    1 & | & \\text{if a hub is built at } i\\in N^H \\\\\n",
    "    0 & | & \\text{if a hub is not built at } i\\in N^H \\\\\n",
    "  \\end{array}\n",
    "\\right.\n",
    "\\end{align*}\n",
    "\n",
    "**Parameters**\n",
    "\n",
    "<u>Node-based parameters:<u>\n",
    "\n",
    "\\begin{align*}\n",
    "d_i: & \\text{ demand at node } i \\in N^S \\\\\n",
    "s_i: & \\text{ supply at node } i \\in N^F \\\\\n",
    "c_{i}^o: & \\text{ fixed operating cost for a hub i } i\\in N^H \\\\\n",
    "c_{i}^h: & \\text{ fixed handling cost (per log) at a hub i } i \\in N^H \\\\\n",
    "p : & \\text{ price per log delivered}\\\\\n",
    "\\text{Note 1:} & \\text{ When } d_i, s_i, c_{i}^o, c_{i}^h  \\text{  not defined for a set of N, it take the value  } 0.\\\\\n",
    "\\text{Note 2:} & \\text{ Handling costs are assumed to accrue whenever a log arrives at a hub. }\n",
    "\\end{align*}\n",
    "\n",
    "\\begin{align*}\n",
    "\\text{}\n",
    "\\end{align*} \n",
    "    \n",
    "Vehicle- and arc-based parameters:\n",
    "\n",
    "\\begin{align*}\n",
    "\\text{cap}_v:& \\text{ capacity (max number of logs) of vehicle }v \\in V \\\\\n",
    "& (\\text{cap}_\\text{Truck} > \\text{cap}_\\text{Transporter}) \\\\\n",
    "c_{ij,v}^t: & \\text{ travel cost per log of vehicle }v\\in V\\text{ on arc }(i,j)\\in A \\\\\n",
    "\\end{align*}\n",
    "\n",
    
    "Other variables:\n",
    "\n",
    "\\begin{align*}\n",
    "x_{ij} :& \\text{ number of logs transported on arc } (i,j)\\in A \\\\\n",
    "u_{ij,v} :& \\text{ vehicle of type }v\\text{ used on arc } (i,j)\\in A \\\\\n",
    "& u_{ij,v} = \\{0, 1 \\} \\quad,\\forall v \\in V\\\\\n",
    "\\end{align*}"
   ]
  },
  {
   "cell_type": "markdown",
   "metadata": {},
   "source": [
    "**Objective function:**\n",
    "\n",
    "\\begin{align*}\n",
    "\\max  \\Big( & p \\cdot x_{ij} \\; & & | \\; \\text{ revenne earned for logs delivered to sawmills}\\\\\n",
    "& - \\sum_{i\\in N^H}c_{ij} \\sum_{j\\in N} x_{ij} \\;  & & | \\; \\text{handling costs of logs entering the hubs}\\\\\n",
    "& - \\sum_{i\\in N^H}\\big(y_i \\cdot c_{i}^o \\big) \\;  & & | \\; \\text{fixed costs of operating hubs} \\\\\n",
    "& - \\sum_{(i,j) \\in A}\\big[ x_{ij} \\sum_{v \\in V}(c_{ij,v}^t \\cdot u_{ij,v})\\big] \\Big) & &  | \\; \\text{transporting cost through arc }(i,j)\\text{ on vehicle } v\\in V\\\\ \n",
    "\\end{align*}"
   ]
  },
  {
   "cell_type": "markdown",
   "metadata": {},
   "source": [
    "**Subject to Constraints:**\n",
    "\n",
    "\\begin{align*}\n",
    "\\text{All parameter } \\geq 0 & \\quad | \\quad \\text{ non-negativity }\\\\\n",
    "x_{ij} \\leq \\big(u_{ij,v} \\cdot cap_{v} \\big) ,\\forall v \\in V & \\quad | \\quad\\text{ The amount of logs transported should be within the capacity of vehicles} \\quad \\\\\n",
    "\\sum_{i \\in N^H}\\big[(1-y_{i})(x_{ij}+x_{ji}) \\big]=0 &\\quad | \\quad \\text{ No logs are transported through the unbuilt hubs}\\\\\n",
    "\\sum_{i \\in N^F}\\big(u_{ij,v}+u_{ji,v}=0\\big) ,\\forall v \\in \\text{Trucks} &\\quad | \\quad \\text{ Trucks can not reach forests}\\\\\n",
    "x_{ij}=0 \\text{ , if i and j are the same type of nodes}  &\\quad | \\quad \\text{ Transporting logs between two notes of the same type is prohibited}\\\\\n",
    "\\end{align*}\n",
    "\n",
    "<u>Flow conservation constrain<u>\n",
    "\\begin{align*}\n",
    "\\sum_{(i,j) \\in A} x_{ij} - \\sum_{(i,j) \\in A} x_{ji} \\leq\n",
    "\\left\\{\n",
    "  \\begin{array}{lr}\n",
    "    s_{i}   & \\text{ ,if } i \\in N^F   \\\\\n",
    "    -d_{i}  & \\text{ ,if } i \\in N^S   \\\\\n",
    "  \\end{array}\n",
    "\\right.\n",
    "\\end{align*}\n",
    "  \n",
    "\\begin{align*}\n",
    "\\sum_{(i,j) \\in A} x_{ij} - \\sum_{(i,j) \\in A} x_{ji} =0 \\quad &  & \\text{ ,if } i \\in N^H\\\\\n",
    "\\end{align*}\n"
   ]
  },
  {
   "cell_type": "markdown",
   "metadata": {},
   "source": [
    "## Extension\n",
    "\n",
    "Modify the model to support the following problem extension:\n",
    "\n",
    "Due to limited storage capacity, transshipment hubs may only transship logs from a limited number of forest areas. That is, each transshipment hub i may only take logs from at most pi forest areas."
   ]
  },
  {
   "cell_type": "markdown",
   "metadata": {},
   "source": [
    "**Additional Parameter:**\n",
    "\n",
    "\\begin{align*}\n",
    "p_i :& \\text{ max number of forest from which a hub can transported logs}\n",
    "\\end{align*}"
   ]
  },
  {
   "cell_type": "markdown",
   "metadata": {},
   "source": [
    "**Additional Constraint:**\n",
    "\n",
    "\\begin{align*}\n",
    "\\sum_{j \\in N^F} I_{\\{x_{ij}>0\\}} \\leq p_i\n",
    "\\end{align*}"
   ]
  }
 ],
 "metadata": {
  "kernelspec": {
   "display_name": "Python 3",
   "language": "python",
   "name": "python3"
  },
  "language_info": {
   "codemirror_mode": {
    "name": "ipython",
    "version": 3
   },
   "file_extension": ".py",
   "mimetype": "text/x-python",
   "name": "python",
   "nbconvert_exporter": "python",
   "pygments_lexer": "ipython3",
   "version": "3.7.7"
  },
  "toc": {
   "base_numbering": 1,
   "nav_menu": {},
   "number_sections": true,
   "sideBar": true,
   "skip_h1_title": false,
   "title_cell": "Table of Contents",
   "title_sidebar": "Contents",
   "toc_cell": false,
   "toc_position": {},
   "toc_section_display": true,
   "toc_window_display": false
  }
 },
 "nbformat": 4,
 "nbformat_minor": 4
}
