{
 "cells": [
  {
   "cell_type": "markdown",
   "metadata": {},
   "source": [
    "# Task description\n",
    "The company **LGLog** is active in forest and wood management, transporting logs from the forest to sawmills. The company operates in multiple forests and owns several sawmills. The forest can only be reached by very expensive and specialized forest transporters with high fuel consumption. Therefore, the company wants to build transshipment hubs near the harvested forest areas to move the logs to cheaper and more fuel efficient trucks that will transport the logs to the sawmills. The company has identified several potential transshipment hubs. Your job is to decide which preselected locations should be chosen.\n",
    "\n",
    "Each transshipment hub has a fixed cost for being open. Vehicles have\n",
    "travel costs depending on the amount of logs they are carrying, which are arc dependent. Each type of vehicle has a capacity on the number of logs it can carry. Assume that the truck can handle more logs than a forest transporter. Additionally there is a uniform handling cost per log at the hubs. You can assume there are enough vehicles of both types available to carry all of the demand, but multiple vehicles of the same type may not travel on the same arc at the same time.\n",
    "\n",
    "Assume you are aware of the demand at each sawmill and the supply\n",
    "in terms of logs at each forest. Note that these two quantities need not be balanced. LGLog is paid a fixed price per log delivered to any sawmill. Every hub can be reached from any forest and every sawmill can be reached from any hub with different distances in between them. It is also possible to travel directly from the forst to a sawmill. Transporting logs between hubs is prohibited. Furthermore, no logs are transported between sawmills nor between forest areas."
   ]
  },
  {
   "cell_type": "markdown",
   "metadata": {},
   "source": [
    "## Model\n",
    "### Model components\n",
    "**Network**\n",
    "\n",
    "\\begin{align*}\n",
    "\\text{Directed Graph: } & G = (N, A) \\\\\n",
    "\\text{Nodes: } & N = N^S \\cup N^F \\cup N^T \\\\\n",
    " & N^S \\text{: sawmills, }\\\\\n",
    " & N^F\\text{: forests, and }\\\\\n",
    " & N^T\\text{: potential transshipment hub (THS) locations} \\\\\n",
    "\\text{Arcs: } & A \\\\\n",
    "\\text{Vehicles: } & V = \\{\\text{Truck, Transporter}\\}\n",
    "\\end{align*}\n",
    "\n",
    "**Decision Variable**\n",
    "\n",
    "\\begin{align*}\n",
    "y_i =\n",
    "\\left\\{\n",
    "  \\begin{array}{lr}\n",
    "    0 & | & \\text{if the THS is not built}\\\\\n",
    "    1 & | & \\text{if the THS is built}\n",
    "  \\end{array}\n",
    "\\right., \\quad i\\in N^T\n",
    "\\end{align*}\n",
    "\n",
    "**Parameters**\n",
    "\n",
    "\\begin{align*}\n",
    "f_i: & \\text{ fixed cost of of node }i\\in N^T\\text{ being open} \\\\\n",
    "s_i: & \\text{ supply at node }i \\in N^F \\\\\n",
    "d_i: & \\text{ demand at node } i \\in N^S \\\\\n",
    "h_i: & \\text{ handling cost (per log) at node } (i \\in N^T) \\\\\n",
    "p: & \\text{ price per log delivered} \\\\\n",
    "\\text{cap}_v:& \\text{ capacity (number of logs) of vehicle }v \\in V \\\\\n",
    "& (\\text{cap}_\\text{Truck} > \\text{cap}_\\text{Transporter}) \\\\\n",
    "u_{ij}^v & \\text{ number of vehicles of type }v\\text{ used on arc } (i,j)\\in A \\\\\n",
    "& u_{ij}^v = \\{0, 1\\} \\\\\n",
    "t_{ij}^{v}: & \\text{ travel cost for vehicle }v\\in V\\text{ on arc }(i,j)\\in A \\\\\n",
    "n_{ij}^v: & \\text{ number of logs transported through arc} (i, j) \\in A \\text{ on vehicle } v \\in V\\\\\n",
    "M_i: & \\text{ number of logs that can be stored at node } i\\in N^T\n",
    "\\end{align*}\n",
    "\n",
    "Note: Handling costs are assumed to accrue whenever a log arrives at or departs from a THS (so, twice for each log entering and leaving a THS). THS are assumed to be capable of storing a large number of logs."
   ]
  },
  {
   "cell_type": "markdown",
   "metadata": {},
   "source": [
    "**Objective:**\n",
    "\n",
    "\\begin{align*}\n",
    "\\max \\big( & p\\cdot n_{is} - & & | \\; \\text{price per log delivered}\\\\\n",
    "& y_t\\cdot f_t - & & | \\; \\text{fixed costs of operating THS}\\\\\n",
    "& h_i \\cdot n_{iT} - h_j \\cdot n_{Tj} - & & | \\; \\text{handling costs of logs entering and leaving THS} \\\\\n",
    "& t_{ij}^v \\cdot u_{ij}^v \\cdot n_{ij}^v \\big) & &  | \\; \\text{costs of transporting }n\\text{ logs through arc }(i,j)\\text{ on vehicle }v\\in V\\\\ \n",
    "\\end{align*}\n",
    "\n",
    "\\begin{equation}\n",
    "\\; s \\in N^S, t \\in N^T\n",
    "\\end{equation}"
   ]
  },
  {
   "cell_type": "markdown",
   "metadata": {},
   "source": [
    "**Subject to Constraints:**\n",
    "\\begin{align*}\n",
    "n_{ij}^v &\\leq \\text{cap}_v \\quad | \\quad \\forall v \\in V, \\; \\forall (i,j) \\in A \\\\\n",
    "& \\text{The number of logs through any arc }(i,j)\\text{ on vehicle }v\\text{ can not exceed the capacity of that vehicle.} \\\\\n",
    "u_{ij}^{\\text{Truck}} & = 0 \\quad | \\quad i, j \\in N^F \\\\\n",
    "& \\text{Trucks can not reach any forest node.} \\\\\n",
    "n_{ij}^v &= 0 \\quad | \\quad i,j\\in N^X, X=\\{S, F, T\\} \\\\\n",
    "& \\text{No logs can be transported between two nodes of the same type.} \\\\\n",
    "M_t &\\geq n_{it} - n_{tj} \\quad | \\quad t \\in N^T i, j \\in N \\\\\n",
    "& \\text{The number of logs stored permanently in any THS does not exceed that THS's maximum.}\n",
    "\\end{align*}"
   ]
  },
  {
   "cell_type": "markdown",
   "metadata": {},
   "source": [
    "Alternatively, we could set up a variable $x_{ij}=\\{0, 1\\}$ to determine whether there is an arc between two nodes $i, j \\in N$. If an arc is set up, then it is used by one of the two vehicles, but never both ($x_{ij} = 1 \\Leftrightarrow u_{ij}^\\text{Truck} + u_{ij}^\\text{Transporter} = 1$). The costs of transporting $n$ logs through arc $(i,j)$ on vehicle $v\\in V$ would then be $\\sum_{v\\in V}t_{ij}^v x_{ij}^v n_{ij}^v$. The constraint that no two nodes of the same type can be connected is then $x_{ij} = 0$ for $i, j\\in N^X, x=\\{S, F, T\\}$"
   ]
  }
 ],
 "metadata": {
  "kernelspec": {
   "display_name": "Python 3",
   "language": "python",
   "name": "python3"
  },
  "language_info": {
   "codemirror_mode": {
    "name": "ipython",
    "version": 3
   },
   "file_extension": ".py",
   "mimetype": "text/x-python",
   "name": "python",
   "nbconvert_exporter": "python",
   "pygments_lexer": "ipython3",
   "version": "3.7.6"
  },
  "toc": {
   "base_numbering": 1,
   "nav_menu": {},
   "number_sections": true,
   "sideBar": true,
   "skip_h1_title": false,
   "title_cell": "Table of Contents",
   "title_sidebar": "Contents",
   "toc_cell": false,
   "toc_position": {},
   "toc_section_display": true,
   "toc_window_display": false
  }
 },
 "nbformat": 4,
 "nbformat_minor": 4
}
