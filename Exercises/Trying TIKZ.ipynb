{
 "cells": [
  {
   "cell_type": "code",
   "execution_count": 2,
   "metadata": {},
   "outputs": [],
   "source": [
    "%load_ext tikzmagic"
   ]
  },
  {
   "cell_type": "code",
   "execution_count": 3,
   "metadata": {},
   "outputs": [
    {
     "name": "stderr",
     "output_type": "stream",
     "text": [
      "LaTeX terminated with signal -1\n"
     ]
    },
    {
     "data": {
      "text/plain": [
       "This is pdfTeX, Version 3.14159265-2.6-1.40.21 (TeX Live 2020/W32TeX) (preloaded format=pdflatex 2020.4.30)  16 JUN 2020 14:53\n",
       "entering extended mode\n",
       " \\write18 enabled.\n",
       " %&-line parsing enabled.\n",
       "**tikz.tex\n",
       "(./tikz.tex\n",
       "LaTeX2e <2020-02-02> patch level 5\n",
       "L3 programming layer <2020-04-06>\n",
       "\n",
       "! LaTeX Error: File `standalone.cls' not found.\n",
       "\n",
       "Type X to quit or <RETURN> to proceed,\n",
       "or enter new name. (Default extension: cls)\n",
       "\n",
       "Enter file name: \n",
       "! Emergency stop.\n",
       "<read *> \n",
       "         \n",
       "l.3 \\usepackage\n",
       "               []{tikz}^^M\n",
       "End of file on the terminal!\n",
       "\n",
       " \n",
       "Here is how much of TeX's memory you used:\n",
       " 22 strings out of 482605\n",
       " 460 string characters out of 5950427\n",
       " 232001 words of memory out of 5000000\n",
       " 15703 multiletter control sequences out of 15000+600000\n",
       " 532338 words of font info for 24 fonts, out of 8000000 for 9000\n",
       " 14 hyphenation exceptions out of 8191\n",
       " 14i,0n,17p,117b,10s stack positions out of 5000i,500n,10000p,200000b,80000s\n",
       "!  ==> Fatal error occurred, no output PDF file produced!\n"
      ]
     },
     "metadata": {},
     "output_type": "display_data"
    }
   ],
   "source": [
    "%tikz \\draw (0,0) rectangle (1,1);"
   ]
  }
 ],
 "metadata": {
  "kernelspec": {
   "display_name": "Python 3",
   "language": "python",
   "name": "python3"
  },
  "language_info": {
   "codemirror_mode": {
    "name": "ipython",
    "version": 3
   },
   "file_extension": ".py",
   "mimetype": "text/x-python",
   "name": "python",
   "nbconvert_exporter": "python",
   "pygments_lexer": "ipython3",
   "version": "3.7.6"
  },
  "toc": {
   "base_numbering": 1,
   "nav_menu": {},
   "number_sections": true,
   "sideBar": true,
   "skip_h1_title": false,
   "title_cell": "Table of Contents",
   "title_sidebar": "Contents",
   "toc_cell": false,
   "toc_position": {},
   "toc_section_display": true,
   "toc_window_display": false
  }
 },
 "nbformat": 4,
 "nbformat_minor": 4
}
