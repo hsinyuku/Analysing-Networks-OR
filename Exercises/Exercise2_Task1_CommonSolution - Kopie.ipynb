{
 "cells": [
  {
   "cell_type": "markdown",
   "metadata": {},
   "source": [
    "# Sets"
   ]
  },
  {
   "cell_type": "markdown",
   "metadata": {},
   "source": [
    "There are five kinds of nodes: forests , sawmills, and transshipment hubs. While forests and sawmills act as sources and sinks (respectively) in the real-world representation of the problem, we introduce artificial sinks and sources for each commodity to facilitate modelling. Additionally, the nodes for the hubs represent potential locations to build hubs. Therefore, our graph consists of:"
   ]
  },
  {
   "cell_type": "markdown",
   "metadata": {},
   "source": [
    "\\begin{align*}\n",
    "G =& (N, A) \\\\\n",
    "N =& N^F  && \\text{ (forests)} \\\\\n",
    "   & \\cup N^S && \\text{ (sawmills)} \\\\\n",
    "   & \\cup N^H && \\text{ (potential location for hubs)} \\\\\n",
    "   & \\cup S && \\text{ (artificial source)}\\\\ \n",
    "   & \\cup T && \\text{ (artificial sink)}\n",
    "\\end{align*}"
   ]
  },
  {
   "cell_type": "markdown",
   "metadata": {},
   "source": [
    "There are two types of vehicles available:\n",
    "\\begin{align*}\n",
    "V =&\\; \\{\\text{Truck, Transporter}\\}\n",
    "\\end{align*}"
   ]
  },
  {
   "cell_type": "markdown",
   "metadata": {},
   "source": [
    "Next we define the arcs: according to the exercise, transporting logs between sawmills and between forests is prohibited. Transporting \"backwards\" (from sawmills to forests, sawmills to hubs, and hubs to forests) is not possible We further prohibit transporting between hubs. At last, we need arcs to connect the forests with the source and the sawmills with the sink. The set of viable arcs thus is:\n",
    "\\begin{align*}\n",
    "    A = (N^F \\times N^H) \\cup (N^H \\times N^S) \\cup (N^F \\times N^S) \\cup (S \\times N^F) \\cup (T \\times N^S)\n",
    "\\end{align*}"
   ]
  },
  {
   "cell_type": "markdown",
   "metadata": {},
   "source": [
    "Up until now, the model is only specified for a single commodity. We have K different commodities, where $$K\\in \\mathbb{N}$$\n",
    "\n",
    "In further notation, every $k$ will denote one commodity, such that $$k \\in \\{1, \\dots, K\\}$$."
   ]
  },
  {
   "cell_type": "markdown",
   "metadata": {},
   "source": [
    "We need to adapt the graph to the multiple commodities. In principle, we assume that each forest can produce every commodity and each sawmill accepts all commodities (we will specifiy demand and supply further down). However, each commodity has its own sink and source; thus, the set of nodes is updated with a different set of source and sinks:\n",
    "\n",
    "\\begin{align*}\n",
    "S = \\{S_1, \\dots, S_k, \\dots, S_K\\} \\\\\n",
    "T = \\{T_1, \\dots, T_k, \\dots, T_K\\}\n",
    "\\end{align*}\n",
    "\n",
    "The set of arcs remains the same, since each sawmill is connected to every sink and each forest is connected to every source."
   ]
  },
  {
   "cell_type": "markdown",
   "metadata": {},
   "source": [
    "# Variables"
   ]
  },
  {
   "cell_type": "markdown",
   "metadata": {},
   "source": [
    "There are two decision variables. The first is the number of units of a certain commodity transported through arc $(i,j)$:\n",
    "\n",
    "$$x_{ij}^k \\in \\mathbb{N}_0$$"
   ]
  },
  {
   "cell_type": "markdown",
   "metadata": {},
   "source": [
    "The second variable is the decision on whether to build a hub at a potential location.\n",
    "\n",
    "\\begin{align*}\n",
    "y_i =\n",
    "  \\begin{cases}\n",
    "    1 & \\text{if hub } i \\text{ is built}\\\\\n",
    "    0 & \\text{otherwise}.\n",
    "  \\end{cases} \\quad  \\forall i \\in N^H\n",
    "\\end{align*}"
   ]
  },
  {
   "cell_type": "markdown",
   "metadata": {},
   "source": [
    "# Parameters"
   ]
  },
  {
   "cell_type": "markdown",
   "metadata": {},
   "source": [
    "## Node-based parameters\n",
    "\n",
    "Some parameters are related to the nodes. Hubs have fixed operation costs and unit costs of handling logs.\n",
    "\n",
    "\\begin{align*}\n",
    "o_i \\in \\mathbb{R}^{+} \\quad | \\quad \\forall i \\in N^H & \\text{ (operation cost of hub i)}\\\\\n",
    "h_{i}^k \\in \\mathbb{R}^{+} \\quad | \\quad \\forall i \\in N^H & \\text{ (handling cost per unit of commodity k at hub i)}\\\\\n",
    "\\end{align*}"
   ]
  },
  {
   "cell_type": "markdown",
   "metadata": {},
   "source": [
    "Both forests and sawmills have a maximum capacity for each commodity, which are supply $s_i^k$ (for forests) and demand $d_i^k$ (for sawmills) respectively.\n",
    "\n",
    "\\begin{align*}\n",
    "s_i^k \\in \\mathbb{Z}^+ \\quad | \\quad \\forall i \\in N^F \\\\\n",
    "d_i^k \\in \\mathbb{Z}^+ \\quad | \\quad \\forall i \\in N^S\n",
    "\\end{align*}"
   ]
  },
  {
   "cell_type": "markdown",
   "metadata": {},
   "source": [
    "## Arc-based parameters"
   ]
  },
  {
   "cell_type": "markdown",
   "metadata": {},
   "source": [
    "Every arc can be travelled by at most one of a specified type of vehicle. That is, all arcs that connect to forests can only be travelled by transporters; arcs between hubs and sawmills can only be travelled by transporters. Which vehicle is used on an arc $(i,j)$ is denoted by $v_{ij}$, so the capacity of an arc is:\n",
    "\n",
    "$$\\kappa_{ij} = \\kappa_{v_{ij}} \\quad | \\quad \\forall (i,j) \\in A\\setminus \\{(S \\times N^F) \\cup (T \\times N^S)\\},\\; v \\in V$$\n",
    "\n",
    "where $\\kappa_{Truck} > \\kappa_{Transporter}$."
   ]
  },
  {
   "cell_type": "markdown",
   "metadata": {},
   "source": [
    "The capacity of an arc that connects the source of a commodity to a forest is equal to the supply of that forest:\n",
    "\n",
    "$$\\kappa_{S^ki} = s_i \\quad | \\quad \\forall i \\in N^F, \\forall k \\in K$$\n",
    "\n",
    "In similar fashion, the capacity of the arcs connecting sawmills with the sink for each resource is equal to the demand of this sawmill:\n",
    "\n",
    "$$\\kappa_{iT^k} = s_i \\quad | \\quad \\forall i \\in N^S, \\forall k \\in K$$"
   ]
  },
  {
   "cell_type": "markdown",
   "metadata": {},
   "source": [
    "The total cost of transporting a unit of a commodity $k$ on an arc $(i,j)$ is $c_{ij}^k$ is the product of the vehicle-specific cost of transporting a commodity $k$ per unit distance and the \n",
    "\n",
    "\\begin{align*}\n",
    "c_{ij}^k \\in \\mathbb{Z}^+\n",
    "\\end{align*}\n",
    "\n",
    "The total cost of transporting a commodity on an arc will be the cost per unit of commodity, multiplied by the number of units of that commodity transported (will be defined further down in the objective)."
   ]
  },
  {
   "cell_type": "markdown",
   "metadata": {},
   "source": [
    "The transport costs from sources and to sinks are 0. Since the sources and sink nodes are artificial, they pose no real costs.\n",
    "\n",
    "$$c_{S^kj}^k =  c_{iT^k}^k = 0, \\; \\forall i \\in N^S, \\; \\forall j \\in N^F,\\;\\forall k \\in K $$\n"
   ]
  },
  {
   "cell_type": "markdown",
   "metadata": {},
   "source": [
    "## Other parameters"
   ]
  },
  {
   "cell_type": "markdown",
   "metadata": {},
   "source": [
    "Finally, the price $p^k$ of a commodity $k$ accrues whenever it is delivered to its sink $T_k$.\n",
    "\n",
    "$$p^k \\in \\mathbb{R}^+$$"
   ]
  },
  {
   "cell_type": "markdown",
   "metadata": {},
   "source": [
    "# Objective function"
   ]
  },
  {
   "cell_type": "markdown",
   "metadata": {},
   "source": [
    "The first part of the objective function is the revenue generated by all the commodities.\n",
    "\n",
    "$$\n",
    "\\sum_{k=1}^K \\sum_{i \\in N^s} x_{iT_k}^k p^k \n",
    "$$\n",
    "\n",
    "Note that the revenue is only generated for units of commodity reaching the respective sink. However, the constraints will make sure that every unit of commodity that leaves a source will also reach the sink."
   ]
  },
  {
   "cell_type": "markdown",
   "metadata": {},
   "source": [
    "First off, there are handling costs that occur at each hub for handling a certain number of units of a commodity. Note that the number of units of each commodity handled is equal to the sum of the units of this commodity reaching the hub from the forests.\n",
    "\n",
    "$$\\sum_{k = 1}^{K} \\Big[ \\sum_{j \\in N^H} \\big[ \\sum_{i \\in N^F} x_{ij}^k h_j^k \\big] \\Big]$$"
   ]
  },
  {
   "cell_type": "markdown",
   "metadata": {},
   "source": [
    "We also have to substract the costs that stem from operating hubs (the activation or operating costs). \n",
    "\n",
    "$$\n",
    "\\sum_{i \\in N^H}o_i y_i\n",
    "$$"
   ]
  },
  {
   "cell_type": "markdown",
   "metadata": {},
   "source": [
    "Also, transporting the commodities also produces costs. The transporting cost occurs at every arc $(i,j) \\in A$ and is dependent on the number of logs for each type $k$ transported.\n",
    "\n",
    "$$\\sum_{\\forall (i,j) \\in A} x_{ij}^kc_{ij}^k $$"
   ]
  },
  {
   "cell_type": "markdown",
   "metadata": {},
   "source": [
    "The ultimate objective function is as follow:\n",
    "\n",
    "\\begin{align*}\n",
    " \\max \\bigg( & \\sum_{k=1}^K \\sum_{i \\in N^s} x_{iT_k}^k p^k && \\text{ (revenue) } \\\\\n",
    "- &  \\sum_{k = 1}^{K} \\Big[ \\sum_{j \\in N^H} \\big[ \\sum_{i \\in N^F} x_{ij}^k h_j^k \\big] \\Big] && \\text{ (handling costs at hubs) } \\\\\n",
    "- &  \\sum_{i \\in N^H}o_i y_i && \\text{ (fixed operating costs for hubs)} \\\\\n",
    "- &  \\sum_{\\forall (i,j) \\in A} x_{ij}^kc_{ij}^k \\bigg) && \\text{ (transportation costs)} \n",
    "\\end{align*}"
   ]
  },
  {
   "cell_type": "markdown",
   "metadata": {},
   "source": [
    "# Constraints"
   ]
  },
  {
   "cell_type": "markdown",
   "metadata": {},
   "source": [
    "1) Make sure that only the right kind of commodity can reach the sink / source.\n",
    "\n",
    "That is, for any arc connecting a sawmill $N^S$ and a sink $T^k$, the number of logs of type $l \\neq k$ flowing through that arc has to be 0.\n",
    "\n",
    "\\begin{align*}\n",
    "x_{iT_k}^l = 0 \\quad | \\quad \\forall i \\in N^S, \\; \\forall k \\in K, \\; \\forall l \\in K \\setminus \\{k\\}\n",
    "\\end{align*}\n"
   ]
  },
  {
   "cell_type": "markdown",
   "metadata": {},
   "source": [
    "The same holds for arcs between the sources and the forests.\n",
    "\n",
    "\\begin{align*}\n",
    "x_{S_ki}^l = 0 \\quad | \\quad \\forall i \\in N^F, \\; \\forall k \\in K, \\; \\forall l \\in K \\setminus \\{k\\} \n",
    "\\end{align*}"
   ]
  },
  {
   "cell_type": "markdown",
   "metadata": {},
   "source": [
    "2) The total number of logs of all types transported on arc $(i,j)$ cannot exceed the arc capacity $\\kappa_{ij}$\n",
    "\n",
    "$$\\sum_{k=1}^K x_{ij}^k \\leq \\kappa_{ij}$$"
   ]
  },
  {
   "cell_type": "markdown",
   "metadata": {},
   "source": [
    "3) The capacity of arcs connecting the forests with the sources and the sawmills with the sinks has already been established as the supply / demand of the respective forest. We model the flow conservation and account for the possibility of the demand not matching the supply; therefore, we have to allow for the net inflow of any forest being smaller or equal than the supply of this forest (and similarly, for sawmills). However, we instead decide to have a flow conservation for every node except for sources and sinks. In all other nodes, the net inflow has to be 0. This way, any \"residual\" supply or demand (that is, supply or demand that has not been fully matched by the optimal solution of the model) will \"remain\" in the source or sink.\n",
    "\n",
    "$$\n",
    "\\sum_{\\forall i \\in N^F}x_{S^ki}^k \\leq d_i^k \\quad \\forall k \\in K \\\\\n",
    "\\sum_{\\forall i \\in N^S}x_{iT^k}^k \\leq s_i^k \\quad \\forall k \\in K \\\\\n",
    "\\sum_{\\forall (i,j) \\in A}x_{ij}^k = \\sum_{\\forall (j,i) \\in A}x_{ji}^k \\quad \\forall i \\in N,\\; k \\in K\n",
    "$$"
   ]
  },
  {
   "cell_type": "markdown",
   "metadata": {},
   "source": [
    "Say that trying to make sure that the difference in the vehicle cost that comes into plays; derive arc cost from vehicle and arc type with a summation?"
   ]
  }
 ],
 "metadata": {
  "kernelspec": {
   "display_name": "Python 3",
   "language": "python",
   "name": "python3"
  },
  "language_info": {
   "codemirror_mode": {
    "name": "ipython",
    "version": 3
   },
   "file_extension": ".py",
   "mimetype": "text/x-python",
   "name": "python",
   "nbconvert_exporter": "python",
   "pygments_lexer": "ipython3",
   "version": "3.7.6"
  },
  "toc": {
   "base_numbering": 1,
   "nav_menu": {},
   "number_sections": true,
   "sideBar": true,
   "skip_h1_title": false,
   "title_cell": "Table of Contents",
   "title_sidebar": "Contents",
   "toc_cell": false,
   "toc_position": {},
   "toc_section_display": true,
   "toc_window_display": false
  }
 },
 "nbformat": 4,
 "nbformat_minor": 4
}
